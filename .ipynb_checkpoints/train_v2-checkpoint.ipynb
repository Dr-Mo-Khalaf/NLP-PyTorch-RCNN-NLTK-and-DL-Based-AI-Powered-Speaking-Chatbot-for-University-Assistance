{
 "cells": [
  {
   "cell_type": "code",
   "execution_count": 1,
   "id": "b2ea5ac8-b892-4963-bb25-73e6c375ee21",
   "metadata": {},
   "outputs": [
    {
     "name": "stderr",
     "output_type": "stream",
     "text": [
      "[nltk_data] Downloading package wordnet to\n",
      "[nltk_data]     C:\\Users\\University\\AppData\\Roaming\\nltk_data...\n",
      "[nltk_data]   Package wordnet is already up-to-date!\n",
      "[nltk_data] Downloading package omw-1.4 to\n",
      "[nltk_data]     C:\\Users\\University\\AppData\\Roaming\\nltk_data...\n",
      "[nltk_data]   Package omw-1.4 is already up-to-date!\n",
      "[nltk_data] Downloading package punkt to\n",
      "[nltk_data]     C:\\Users\\University\\AppData\\Roaming\\nltk_data...\n",
      "[nltk_data]   Package punkt is already up-to-date!\n",
      "[nltk_data] Downloading package punkt_tab to\n",
      "[nltk_data]     C:\\Users\\University\\AppData\\Roaming\\nltk_data...\n",
      "[nltk_data]   Package punkt_tab is already up-to-date!\n",
      "[nltk_data] Downloading package punkt to\n",
      "[nltk_data]     C:\\Users\\University\\AppData\\Roaming\\nltk_data...\n",
      "[nltk_data]   Package punkt is already up-to-date!\n",
      "[nltk_data] Downloading package wordnet to\n",
      "[nltk_data]     C:\\Users\\University\\AppData\\Roaming\\nltk_data...\n",
      "[nltk_data]   Package wordnet is already up-to-date!\n",
      "[nltk_data] Downloading package stopwords to\n",
      "[nltk_data]     C:\\Users\\University\\AppData\\Roaming\\nltk_data...\n",
      "[nltk_data]   Package stopwords is already up-to-date!\n"
     ]
    }
   ],
   "source": [
    "import torch\n",
    "import torch.nn as nn\n",
    "import nltk\n",
    "from torch.utils.data import Dataset, DataLoader\n",
    "\n",
    "device = \"cuda\" if torch.cuda.is_available() else \"cpu\"\n",
    "## vesuale and sense \n",
    "from tqdm.auto import tqdm\n",
    "from timeit import default_timer as timer\n",
    "### my setup\n",
    "from func import preprocess_words_fn ,train_fn ,accuracy_fn\n",
    "from classes import createChatDataset\n",
    "from model import chatModel , chatModel_v2 ,chatModel_v3, chatModel_v3_extended\n"
   ]
  },
  {
   "cell_type": "code",
   "execution_count": 2,
   "id": "e9ae328d-950b-497d-8cfc-75ec1d0f6f21",
   "metadata": {},
   "outputs": [
    {
     "name": "stdout",
     "output_type": "stream",
     "text": [
      "start loading the dataset\n",
      "data set loaded\n"
     ]
    }
   ],
   "source": [
    "### load the dataset\n",
    "# Load the file with weights_only=False if you trust the source\n",
    "print(\"start loading the dataset\")\n",
    "train_dataset = torch.load(\"train_dataset_v2.pt\", weights_only=False)\n",
    "print(\"data set loaded\")"
   ]
  },
  {
   "cell_type": "code",
   "execution_count": 3,
   "id": "0cda75ca-1b1b-484a-bb21-5b94055ddd8c",
   "metadata": {},
   "outputs": [
    {
     "data": {
      "text/plain": [
       "(['greeting',\n",
       "  'goodbye',\n",
       "  'faculty_selection',\n",
       "  'student_interests',\n",
       "  'practical_programs',\n",
       "  'study_AI',\n",
       "  'artistic_programs',\n",
       "  'time_management',\n",
       "  'study_tips',\n",
       "  'best_study_time',\n",
       "  'student_support'],\n",
       " 11)"
      ]
     },
     "execution_count": 3,
     "metadata": {},
     "output_type": "execute_result"
    }
   ],
   "source": [
    "classNames = train_dataset.classes\n",
    "train_dataset.classes , len(train_dataset.classes)"
   ]
  },
  {
   "cell_type": "code",
   "execution_count": null,
   "id": "050894e0-2717-435e-b2c2-865936912818",
   "metadata": {},
   "outputs": [],
   "source": []
  },
  {
   "cell_type": "code",
   "execution_count": 4,
   "id": "cf1006ac-1530-4290-aeca-9c577a533a82",
   "metadata": {},
   "outputs": [
    {
     "name": "stdout",
     "output_type": "stream",
     "text": [
      "504 11\n"
     ]
    }
   ],
   "source": [
    "epochs = 501\n",
    "BATCH_SIZE = 32  ## 1, 2, 8 ,16 , 32 , 64\n",
    "learning_rate = 0.002\n",
    "hidden_size = 32\n",
    "input_feature = len(train_dataset[0][0]) # for single sample\n",
    "out_feature = len(train_dataset.classes)\n",
    "print(input_feature, out_feature)"
   ]
  },
  {
   "cell_type": "code",
   "execution_count": 5,
   "id": "ec33fd76-c476-4175-ab8b-8f783b950b35",
   "metadata": {},
   "outputs": [],
   "source": [
    "device = torch.device('cuda' if torch.cuda.is_available() else 'cpu')\n",
    "train_dataLoader = DataLoader( dataset = train_dataset,\n",
    "                              batch_size = BATCH_SIZE,\n",
    "                              shuffle=True)"
   ]
  },
  {
   "cell_type": "code",
   "execution_count": 6,
   "id": "0cf1b564-8ab1-4d1d-b29e-95ecb7cd98aa",
   "metadata": {},
   "outputs": [],
   "source": [
    "model_1 = chatModel_v3(input_feature=input_feature , hidden_feature=hidden_size\n",
    "                 , out_feature=out_feature)\n",
    "criterion = loss_fn = nn.CrossEntropyLoss()\n",
    "optimizer = torch.optim.Adam(model_1.parameters(),\n",
    "                             lr = learning_rate)\n"
   ]
  },
  {
   "cell_type": "markdown",
   "id": "dd664531-0d18-4c03-83d3-6b4947e21779",
   "metadata": {},
   "source": [
    "### train the model"
   ]
  },
  {
   "cell_type": "code",
   "execution_count": 7,
   "id": "4b9c196a-64e6-4fd9-834c-55b06e31058f",
   "metadata": {},
   "outputs": [
    {
     "data": {
      "application/vnd.jupyter.widget-view+json": {
       "model_id": "bf29f80e683347d2a333aaf68f4d74dc",
       "version_major": 2,
       "version_minor": 0
      },
      "text/plain": [
       "training:   0%|          | 0/5 [00:00<?, ?it/s]"
      ]
     },
     "metadata": {},
     "output_type": "display_data"
    },
    {
     "name": "stdout",
     "output_type": "stream",
     "text": [
      "the training is started\n",
      "model training loss is :  2.33276 | model accuracy: 15.625\n",
      "1\n",
      "model training loss is :  2.13713 | model accuracy: 30.034722222222218\n",
      "51\n",
      "model training loss is :  0.20813 | model accuracy: 94.27083333333333\n",
      "101\n",
      "model training loss is :  0.07982 | model accuracy: 97.91666666666667\n",
      "151\n",
      "model training loss is :  0.09909 | model accuracy: 96.35416666666667\n",
      "201\n",
      "model training loss is :  0.07725 | model accuracy: 96.875\n",
      "251\n",
      "model training loss is :  0.09465 | model accuracy: 95.65972222222223\n",
      "301\n",
      "model training loss is :  0.05235 | model accuracy: 98.4375\n",
      "351\n",
      "model training loss is :  0.33099 | model accuracy: 92.3611111111111\n",
      "401\n",
      "model training loss is :  0.05031 | model accuracy: 98.4375\n",
      "451\n",
      "model training loss is :  0.06797 | model accuracy: 97.91666666666667\n",
      "501\n",
      "model training loss is :  0.08776 | model accuracy: 97.39583333333333\n",
      "total training time : 13.098133500025142 sec\n"
     ]
    }
   ],
   "source": [
    "torch.manual_seed(42)\n",
    "startime = timer()\n",
    "prnt = True\n",
    "bar = tqdm( total = int(epochs//100) , desc = \"training\")\n",
    "print(\"the training is started\")\n",
    "lossList, accList = [] , []\n",
    "for epoch in range(epochs+1) : \n",
    "    losslist , acclist = train_fn(model=model_1, data_loader = train_dataLoader, optimizer=optimizer,\n",
    "             loss_fn=loss_fn, accuracy_fn= accuracy_fn, device=device , prnt=prnt)\n",
    "    lossList.append(losslist)\n",
    "    accList.append(accList)\n",
    "    if (epoch%50 == 0 ) | (epoch == 1000):\n",
    "        bar.update(1)\n",
    "        print(epoch+1)\n",
    "        prnt = True\n",
    "    else:\n",
    "        prnt = False\n",
    "\n",
    "endtime =timer()\n",
    "print(f\"total training time : {endtime-startime} sec\")"
   ]
  },
  {
   "cell_type": "code",
   "execution_count": 11,
   "id": "b162196d-bb74-4c85-9b91-f06a704c5695",
   "metadata": {},
   "outputs": [],
   "source": [
    "torch.save(model_1, \"modelv3e.pt\")"
   ]
  },
  {
   "cell_type": "code",
   "execution_count": null,
   "id": "45e77aa8-7a1a-450f-8a6a-0f865c26b863",
   "metadata": {},
   "outputs": [],
   "source": [
    "import matplotlib.pyplot as plt\n",
    "\n",
    "\n",
    "# lossList and accList are lists of PyTorch tensors\n",
    "# Detach the tensors and convert to NumPy arrays\n",
    "lossList = lossList\n",
    "accList =  accList\n",
    "\n",
    "\n",
    "epochs = range(1, len(lossList) + 1)  # Create an epoch range based on the length of the lists\n",
    "\n",
    "# Plotting Loss vs Epochs\n",
    "plt.figure(figsize=(12, 6))\n",
    "plt.subplot(1, 2, 1)  # Two plots in one row\n",
    "plt.plot(epochs, lossList, label='Training Loss', color='blue')\n",
    "plt.title('Training Loss vs Epochs')\n",
    "plt.xlabel('Epochs')\n",
    "plt.ylabel('Loss')\n",
    "plt.legend()\n",
    "\n",
    "# Plotting Accuracy vs Epochs\n",
    "plt.subplot(1, 2, 2)  # Two plots in one row\n",
    "plt.plot(epochs, accList, label='Training Accuracy', color='green')\n",
    "plt.title('Training Accuracy vs Epochs')\n",
    "plt.xlabel('Epochs')\n",
    "plt.ylabel('Accuracy')\n",
    "plt.legend()\n",
    "\n",
    "plt.tight_layout()  # To make sure the plots don't overlap\n",
    "plt.show()\n"
   ]
  },
  {
   "cell_type": "code",
   "execution_count": null,
   "id": "e0d48e3d-ef65-4c1b-95b0-84a540425a20",
   "metadata": {},
   "outputs": [],
   "source": [
    "import random\n",
    "import torch\n",
    "import matplotlib.pyplot as plt\n",
    "from torchmetrics import ConfusionMatrix\n",
    "import mlxtend\n",
    "from mlxtend.plotting import plot_confusion_matrix\n",
    "\n",
    "# Sample selection from train_dataset\n",
    "sentSamples, sentSampleLabels = [], []\n",
    "for sample, label in random.sample(list(train_dataset), k=10):  # k number of samples\n",
    "    sentSamples.append(sample)\n",
    "    sentSampleLabels.append(label)\n",
    "\n",
    "# Convert sentSampleLabels to tensor\n",
    "sentSampleLabels = torch.tensor(sentSampleLabels)\n",
    "\n",
    "# Check the shape of the first sample\n",
    "print(sentSamples[0].shape)\n",
    "\n",
    "prediction = []\n",
    "\n",
    "# Set model to evaluation mode and use inference mode for predictions\n",
    "model_1.eval()\n",
    "with torch.inference_mode():\n",
    "    for sample in sentSamples:\n",
    "        # Ensure the sample is a 2D tensor with batch dimension (e.g., [1, feature_size])\n",
    "        pred_out = model_1.predict(sample.unsqueeze(0))  # Adding batch dimension\n",
    "        prediction.append(pred_out)\n",
    "\n",
    "# Stack predictions (class labels)\n",
    "pred_result = torch.stack(prediction)\n",
    "\n",
    "# Convert predictions to class indices (if they are logits or probabilities)\n",
    "pred_result = pred_result.squeeze(1)  # Removing extra dimension if needed\n",
    "pred_result = pred_result.int()  # Ensure the predictions are integer labels\n",
    "\n",
    "# Define class names (ensure this list matches the number of classes in the dataset)\n",
    "class_names = train_dataset.classes\n",
    "print(class_names, len(class_names))\n",
    "\n",
    "# Initialize the ConfusionMatrix for multiclass classification\n",
    "conf_matrix = ConfusionMatrix(task=\"multiclass\", num_classes=len(class_names))\n",
    "\n",
    "# Update the confusion matrix with predictions and labels\n",
    "conf_matrix.update(pred_result, sentSampleLabels)\n",
    "\n",
    "# Compute the confusion matrix\n",
    "confMat = conf_matrix.compute()\n",
    "\n",
    "print(\"Confusion Matrix:\")\n",
    "print(confMat)\n",
    "\n",
    "# Optional: Plot confusion matrix using mlxtend\n",
    "fig, ax = plot_confusion_matrix(conf_mat=confMat.numpy(), \n",
    "                                show_absolute=True, \n",
    "                                show_normed=False,\n",
    "                                colorbar=True,\n",
    "                                class_names=class_names)  # Add class names here\n",
    "\n",
    "# Show the plot (if running in a Jupyter notebook or similar)\n",
    "plt.show()\n"
   ]
  },
  {
   "cell_type": "markdown",
   "id": "614c1a0a-175d-4739-8632-a2c3a822cf84",
   "metadata": {},
   "source": [
    "### evaluation"
   ]
  },
  {
   "cell_type": "code",
   "execution_count": null,
   "id": "c66f0842-920c-4956-9a1b-de4b74e73d30",
   "metadata": {},
   "outputs": [],
   "source": [
    "import matplotlib.pyplot as plt\n",
    "\n",
    "# Assuming you are tracking training and validation loss/accuracy during training\n",
    "epochs = range(1, len(training_loss)+1)\n",
    "\n",
    "plt.figure(figsize=(10,5))\n",
    "\n",
    "# Plot Training & Validation Loss\n",
    "plt.subplot(1, 2, 1)\n",
    "plt.plot(epochs, training_loss, label=\"Training Loss\")\n",
    "plt.plot(epochs, validation_loss, label=\"Validation Loss\")\n",
    "plt.title(\"Loss over Epochs\")\n",
    "plt.xlabel(\"Epochs\")\n",
    "plt.ylabel(\"Loss\")\n",
    "plt.legend()\n",
    "\n",
    "# Plot Training & Validation Accuracy\n",
    "plt.subplot(1, 2, 2)\n",
    "plt.plot(epochs, training_accuracy, label=\"Training Accuracy\")\n",
    "plt.plot(epochs, validation_accuracy, label=\"Validation Accuracy\")\n",
    "plt.title(\"Accuracy over Epochs\")\n",
    "plt.xlabel(\"Epochs\")\n",
    "plt.ylabel(\"Accuracy\")\n",
    "plt.legend()\n",
    "\n",
    "plt.tight_layout()\n",
    "plt.show()\n"
   ]
  },
  {
   "cell_type": "markdown",
   "id": "40bf379b-e7a5-490e-b994-84a8ec863eeb",
   "metadata": {},
   "source": [
    "### get the prediction data"
   ]
  },
  {
   "cell_type": "code",
   "execution_count": null,
   "id": "f78cf6d3-8d67-4d3c-95ef-275cf91fe737",
   "metadata": {},
   "outputs": [],
   "source": [
    "from func import bag_of_words"
   ]
  },
  {
   "cell_type": "code",
   "execution_count": null,
   "id": "39eb1d81-9f2c-4144-8ecf-5cdb8fe1b433",
   "metadata": {},
   "outputs": [],
   "source": [
    "# Define stop words using nltk's stopword list\n",
    "import string\n",
    "from nltk.corpus import stopwords\n",
    "stop_words = set(stopwords.words('english'))\n",
    "punctuation = set(string.punctuation)\n",
    "queries = [\n",
    "    \"How can I manage my time effectively?\",\n",
    "    \"What are some good time management tips?\",\n",
    "]\n",
    "\n",
    "\n",
    "bag = bag_of_words(sentence=queries[0] ,all_words=train_dataset.all_words,\n",
    "                       preprocess_words_fn= preprocess_words_fn,punctuation=punctuation,\n",
    "                       stop_words=stop_words)\n",
    "bag_tensor= torch.tensor(bag, dtype = torch.float32).unsqueeze(0)\n",
    "prediction = model_1.predict(bag_tensor)  # Replace with your prediction function\n",
    "print(f\"Query: {queries[0]} | Predicted Tag: {prediction}\")\n",
    "\n"
   ]
  },
  {
   "cell_type": "code",
   "execution_count": null,
   "id": "b9a5e7ce-228b-42f7-9e98-35519fb33742",
   "metadata": {},
   "outputs": [],
   "source": [
    "tags=train_dataset.classes"
   ]
  },
  {
   "cell_type": "code",
   "execution_count": null,
   "id": "ea8c3119-b7d2-482f-bc10-a2f8495c383c",
   "metadata": {},
   "outputs": [],
   "source": [
    "# Assuming the model output is `tensor([6])`\n",
    "predicted_index = prediction.item()  # Extract the scalar value from the tensor\n",
    "predicted_tag = tags[predicted_index]  # Map the index to the tag name\n",
    "\n",
    "print(f\"Query: {queries[0]} | Predicted Tag: {predicted_tag}\")\n"
   ]
  },
  {
   "cell_type": "code",
   "execution_count": null,
   "id": "b9f54b60-c6c2-4268-a9ae-fadd90bdd13a",
   "metadata": {},
   "outputs": [],
   "source": [
    "# train_dataset.all_words"
   ]
  },
  {
   "cell_type": "code",
   "execution_count": null,
   "id": "2e775068-0d2c-4584-86d2-9353fa38c6cb",
   "metadata": {},
   "outputs": [],
   "source": []
  }
 ],
 "metadata": {
  "kernelspec": {
   "display_name": "Python 3 (ipykernel)",
   "language": "python",
   "name": "python3"
  },
  "language_info": {
   "codemirror_mode": {
    "name": "ipython",
    "version": 3
   },
   "file_extension": ".py",
   "mimetype": "text/x-python",
   "name": "python",
   "nbconvert_exporter": "python",
   "pygments_lexer": "ipython3",
   "version": "3.12.2"
  },
  "widgets": {
   "application/vnd.jupyter.widget-state+json": {
    "state": {
     "001a4319d95b4e59a3973d325f11dfbc": {
      "model_module": "@jupyter-widgets/controls",
      "model_module_version": "2.0.0",
      "model_name": "HTMLStyleModel",
      "state": {
       "description_width": "",
       "font_size": null,
       "text_color": null
      }
     },
     "01b444bae39a4b1fa848aa83a191cc5e": {
      "model_module": "@jupyter-widgets/controls",
      "model_module_version": "2.0.0",
      "model_name": "HTMLModel",
      "state": {
       "layout": "IPY_MODEL_c59b9eafe92d4d339ae620bcf9f70308",
       "style": "IPY_MODEL_6865639ff60e4d1e87c36a5046dbd1fb",
       "value": " 13/? [03:56&lt;00:00,  1.33s/it]"
      }
     },
     "02517c86b68e4049b551bf44c2f2c9ec": {
      "model_module": "@jupyter-widgets/controls",
      "model_module_version": "2.0.0",
      "model_name": "HTMLStyleModel",
      "state": {
       "description_width": "",
       "font_size": null,
       "text_color": null
      }
     },
     "034a0486e1b34203b25d9f3c315b7a30": {
      "model_module": "@jupyter-widgets/controls",
      "model_module_version": "2.0.0",
      "model_name": "HTMLStyleModel",
      "state": {
       "description_width": "",
       "font_size": null,
       "text_color": null
      }
     },
     "048599d3e912417bb27528fd9356e3cd": {
      "model_module": "@jupyter-widgets/controls",
      "model_module_version": "2.0.0",
      "model_name": "ProgressStyleModel",
      "state": {
       "description_width": ""
      }
     },
     "05600931354a48b9b5a47b98c500436f": {
      "model_module": "@jupyter-widgets/controls",
      "model_module_version": "2.0.0",
      "model_name": "FloatProgressModel",
      "state": {
       "layout": "IPY_MODEL_389222955cdd4e848598279934a52b08",
       "max": 5,
       "style": "IPY_MODEL_c8a8ae7496af44a48609154098857883"
      }
     },
     "05ee3482d294496b89f3cc38f6ff0300": {
      "model_module": "@jupyter-widgets/controls",
      "model_module_version": "2.0.0",
      "model_name": "HTMLModel",
      "state": {
       "layout": "IPY_MODEL_6e6e6d3af57345a78002acd7f11fcd2f",
       "style": "IPY_MODEL_001a4319d95b4e59a3973d325f11dfbc",
       "value": " 0/5 [02:04&lt;?, ?it/s]"
      }
     },
     "068a36f3d2f0405ea625dcdedc551f4d": {
      "model_module": "@jupyter-widgets/controls",
      "model_module_version": "2.0.0",
      "model_name": "ProgressStyleModel",
      "state": {
       "description_width": ""
      }
     },
     "06cb2db23d8c40f4891f80f5636b16a0": {
      "model_module": "@jupyter-widgets/controls",
      "model_module_version": "2.0.0",
      "model_name": "HTMLStyleModel",
      "state": {
       "description_width": "",
       "font_size": null,
       "text_color": null
      }
     },
     "078d7de6e8884d34bf3662eae3fce459": {
      "model_module": "@jupyter-widgets/base",
      "model_module_version": "2.0.0",
      "model_name": "LayoutModel",
      "state": {}
     },
     "07f8e4fc943349d98cd3e732b0501336": {
      "model_module": "@jupyter-widgets/base",
      "model_module_version": "2.0.0",
      "model_name": "LayoutModel",
      "state": {}
     },
     "0abbdf67656042349e8899afee9b3666": {
      "model_module": "@jupyter-widgets/controls",
      "model_module_version": "2.0.0",
      "model_name": "HBoxModel",
      "state": {
       "children": [
        "IPY_MODEL_525c7e3c224a4f93b4a80d2d7d071be8",
        "IPY_MODEL_4459dcb18c2448f7a15e1155899415f6",
        "IPY_MODEL_28c4911de23c4f66aa7b48a0d794ddbe"
       ],
       "layout": "IPY_MODEL_6e1f536bd07e46a8ba73be0e1316129b"
      }
     },
     "0af01bc6eb2d4b94bec1b82c0bb7e22a": {
      "model_module": "@jupyter-widgets/base",
      "model_module_version": "2.0.0",
      "model_name": "LayoutModel",
      "state": {}
     },
     "0bfdc2c0f293409e89ac00c8cfd1688e": {
      "model_module": "@jupyter-widgets/controls",
      "model_module_version": "2.0.0",
      "model_name": "HBoxModel",
      "state": {
       "children": [
        "IPY_MODEL_5d006624da3841be9b9f6a0c78451aa2",
        "IPY_MODEL_e0d4b329b7164c44860680c358f57c16",
        "IPY_MODEL_05ee3482d294496b89f3cc38f6ff0300"
       ],
       "layout": "IPY_MODEL_0d74c0a473de431d9ff5b8dc83c2442e"
      }
     },
     "0c8603b2f1db4fd99f263d906f448885": {
      "model_module": "@jupyter-widgets/base",
      "model_module_version": "2.0.0",
      "model_name": "LayoutModel",
      "state": {}
     },
     "0cbf6189b9d242fc9d57fefc6ed0c9d8": {
      "model_module": "@jupyter-widgets/base",
      "model_module_version": "2.0.0",
      "model_name": "LayoutModel",
      "state": {}
     },
     "0d74c0a473de431d9ff5b8dc83c2442e": {
      "model_module": "@jupyter-widgets/base",
      "model_module_version": "2.0.0",
      "model_name": "LayoutModel",
      "state": {}
     },
     "0f8cc572b8104c26889925f506822d0f": {
      "model_module": "@jupyter-widgets/controls",
      "model_module_version": "2.0.0",
      "model_name": "HBoxModel",
      "state": {
       "children": [
        "IPY_MODEL_a59adaf36fe34eeba2415d1f745e9adf",
        "IPY_MODEL_1b7bacd243e449d7819defd9705cfe82",
        "IPY_MODEL_a914018923b84335914f9609a8063250"
       ],
       "layout": "IPY_MODEL_3afc6b78d1064d84b3ed14a6ae266fcc"
      }
     },
     "10e2f43e1b9948dfb682fc76eae2003f": {
      "model_module": "@jupyter-widgets/controls",
      "model_module_version": "2.0.0",
      "model_name": "HBoxModel",
      "state": {
       "children": [
        "IPY_MODEL_77b3ae93430a44c89a82034a4ba1a151",
        "IPY_MODEL_42fee7d306054be0a7c3dce6865d41b1",
        "IPY_MODEL_2dbd862a51504dc29b12fb55ca0dbdf5"
       ],
       "layout": "IPY_MODEL_682bab0b659c4d08b3817a5198b58df2"
      }
     },
     "11164202eb0d42f0a52a2160ff881f4a": {
      "model_module": "@jupyter-widgets/controls",
      "model_module_version": "2.0.0",
      "model_name": "HTMLModel",
      "state": {
       "layout": "IPY_MODEL_77c53c51a3d840e98798e7c4e1d0c530",
       "style": "IPY_MODEL_7f39e726cd6446419b1a01c1241360e6",
       "value": "training:   0%"
      }
     },
     "129e5652adc14db0b3c082fe8adfc27d": {
      "model_module": "@jupyter-widgets/base",
      "model_module_version": "2.0.0",
      "model_name": "LayoutModel",
      "state": {}
     },
     "1348fd01d1764e2999616bc084594a33": {
      "model_module": "@jupyter-widgets/controls",
      "model_module_version": "2.0.0",
      "model_name": "HTMLStyleModel",
      "state": {
       "description_width": "",
       "font_size": null,
       "text_color": null
      }
     },
     "150af4fada2a4ffbadc6f488193b6478": {
      "model_module": "@jupyter-widgets/controls",
      "model_module_version": "2.0.0",
      "model_name": "ProgressStyleModel",
      "state": {
       "description_width": ""
      }
     },
     "150f063c6be24caeaee86667ca8240b4": {
      "model_module": "@jupyter-widgets/base",
      "model_module_version": "2.0.0",
      "model_name": "LayoutModel",
      "state": {}
     },
     "1af6ccd5d4524b52a186bb0ef17e7ee0": {
      "model_module": "@jupyter-widgets/base",
      "model_module_version": "2.0.0",
      "model_name": "LayoutModel",
      "state": {}
     },
     "1b7bacd243e449d7819defd9705cfe82": {
      "model_module": "@jupyter-widgets/controls",
      "model_module_version": "2.0.0",
      "model_name": "FloatProgressModel",
      "state": {
       "layout": "IPY_MODEL_81b1856592b04a8f9a61ba111293ced5",
       "max": 5,
       "style": "IPY_MODEL_3ee9531dc0a04b0f9b991f4f11e9300c",
       "value": 5
      }
     },
     "1d73a2ad4f384947bb363f1771a57c33": {
      "model_module": "@jupyter-widgets/base",
      "model_module_version": "2.0.0",
      "model_name": "LayoutModel",
      "state": {}
     },
     "1ec6a52421ca4a02b8d7146b37c1fbf3": {
      "model_module": "@jupyter-widgets/controls",
      "model_module_version": "2.0.0",
      "model_name": "HTMLStyleModel",
      "state": {
       "description_width": "",
       "font_size": null,
       "text_color": null
      }
     },
     "204995fcc06b4d0c900eb32a05a68988": {
      "model_module": "@jupyter-widgets/base",
      "model_module_version": "2.0.0",
      "model_name": "LayoutModel",
      "state": {}
     },
     "215604961dce4704988b099a68d24077": {
      "model_module": "@jupyter-widgets/controls",
      "model_module_version": "2.0.0",
      "model_name": "HBoxModel",
      "state": {
       "children": [
        "IPY_MODEL_2f4545b9a9c341628ad90ede55097527",
        "IPY_MODEL_46e8517544214b1fad27cc64ff63c707",
        "IPY_MODEL_3012fd731302474d951a1f807344287f"
       ],
       "layout": "IPY_MODEL_836676cb338e4065b0b26d79a05cac8b"
      }
     },
     "218f907b21f44aa3ad8e43ee1963c9d9": {
      "model_module": "@jupyter-widgets/controls",
      "model_module_version": "2.0.0",
      "model_name": "HTMLModel",
      "state": {
       "layout": "IPY_MODEL_e1150a1e43af4c17bd68aaa820a0b6d2",
       "style": "IPY_MODEL_76e8e2ec9365465fb89e2cc4e2bf1999",
       "value": "training: "
      }
     },
     "2241857e2c294e47843489d58944d85d": {
      "model_module": "@jupyter-widgets/base",
      "model_module_version": "2.0.0",
      "model_name": "LayoutModel",
      "state": {}
     },
     "2280b0130d934b138082f78226c14661": {
      "model_module": "@jupyter-widgets/base",
      "model_module_version": "2.0.0",
      "model_name": "LayoutModel",
      "state": {}
     },
     "23e7505fc07140e5b43da72b827dc4df": {
      "model_module": "@jupyter-widgets/controls",
      "model_module_version": "2.0.0",
      "model_name": "HTMLStyleModel",
      "state": {
       "description_width": "",
       "font_size": null,
       "text_color": null
      }
     },
     "247e3f4928df4906a917e528ded954b4": {
      "model_module": "@jupyter-widgets/controls",
      "model_module_version": "2.0.0",
      "model_name": "ProgressStyleModel",
      "state": {
       "description_width": ""
      }
     },
     "26bc3d81a50544f7950641bf28469c54": {
      "model_module": "@jupyter-widgets/controls",
      "model_module_version": "2.0.0",
      "model_name": "HTMLModel",
      "state": {
       "layout": "IPY_MODEL_a2a06b2ad39143dfa832c6a7288a6db0",
       "style": "IPY_MODEL_7afa8b9f939a4a8dad5df40560822213",
       "value": " 11/? [08:36&lt;00:00,  2.35s/it]"
      }
     },
     "26ff689536c94b7799a635f166261394": {
      "model_module": "@jupyter-widgets/controls",
      "model_module_version": "2.0.0",
      "model_name": "HBoxModel",
      "state": {
       "children": [
        "IPY_MODEL_28559ad2cfe84c31a81f44be3cdeefa7",
        "IPY_MODEL_cdf2e107803e425b80312480d16d8c2d",
        "IPY_MODEL_b743ab6c3a324e8f87cf67e63b1d012a"
       ],
       "layout": "IPY_MODEL_a64646a25ef04b058293fa4dbc6e0000"
      }
     },
     "28559ad2cfe84c31a81f44be3cdeefa7": {
      "model_module": "@jupyter-widgets/controls",
      "model_module_version": "2.0.0",
      "model_name": "HTMLModel",
      "state": {
       "layout": "IPY_MODEL_f78ea4c4255d4e289abaa8c669658a93",
       "style": "IPY_MODEL_f4707b5b403e4ab28cf9671884dfb2e5",
       "value": "training: "
      }
     },
     "28c4911de23c4f66aa7b48a0d794ddbe": {
      "model_module": "@jupyter-widgets/controls",
      "model_module_version": "2.0.0",
      "model_name": "HTMLModel",
      "state": {
       "layout": "IPY_MODEL_b8e706f379d04ce5a22e8adf74a9725c",
       "style": "IPY_MODEL_23e7505fc07140e5b43da72b827dc4df",
       "value": " 8/? [03:15&lt;00:00,  2.48s/it]"
      }
     },
     "2a39a05cdac3455f8c7cefda3053c98a": {
      "model_module": "@jupyter-widgets/controls",
      "model_module_version": "2.0.0",
      "model_name": "HTMLStyleModel",
      "state": {
       "description_width": "",
       "font_size": null,
       "text_color": null
      }
     },
     "2bb5822129ca4724afad8179ab34b2d2": {
      "model_module": "@jupyter-widgets/controls",
      "model_module_version": "2.0.0",
      "model_name": "HTMLStyleModel",
      "state": {
       "description_width": "",
       "font_size": null,
       "text_color": null
      }
     },
     "2cb4fd37b1c5441cabc6b47639bf5d4b": {
      "model_module": "@jupyter-widgets/controls",
      "model_module_version": "2.0.0",
      "model_name": "FloatProgressModel",
      "state": {
       "layout": "IPY_MODEL_ad143156c9bc403abf0e69c6cbefc360",
       "max": 5,
       "style": "IPY_MODEL_e2eff6dd0dcf46d699758718edda5ae0"
      }
     },
     "2cb6923efb3c410aaabf44fe6e1587e5": {
      "model_module": "@jupyter-widgets/controls",
      "model_module_version": "2.0.0",
      "model_name": "HTMLModel",
      "state": {
       "layout": "IPY_MODEL_8f464bf37290482bbcb177ced88cbbc9",
       "style": "IPY_MODEL_840aaf923ec846d2bdac219213c9a1cc",
       "value": "training: "
      }
     },
     "2dbd862a51504dc29b12fb55ca0dbdf5": {
      "model_module": "@jupyter-widgets/controls",
      "model_module_version": "2.0.0",
      "model_name": "HTMLModel",
      "state": {
       "layout": "IPY_MODEL_150f063c6be24caeaee86667ca8240b4",
       "style": "IPY_MODEL_ef513a0e54584dc0afed6dd1b03d38bd",
       "value": " 11/? [00:12&lt;00:00,  1.25s/it]"
      }
     },
     "2e8726841c5046d8a324cfce774a0173": {
      "model_module": "@jupyter-widgets/base",
      "model_module_version": "2.0.0",
      "model_name": "LayoutModel",
      "state": {}
     },
     "2e9d8a91b3ce4f24ae9940b82b3191bf": {
      "model_module": "@jupyter-widgets/controls",
      "model_module_version": "2.0.0",
      "model_name": "HTMLStyleModel",
      "state": {
       "description_width": "",
       "font_size": null,
       "text_color": null
      }
     },
     "2f4545b9a9c341628ad90ede55097527": {
      "model_module": "@jupyter-widgets/controls",
      "model_module_version": "2.0.0",
      "model_name": "HTMLModel",
      "state": {
       "layout": "IPY_MODEL_a98b4cba5c4f411586c30f7ca88aff4e",
       "style": "IPY_MODEL_53514799786e416b8e5b3b1e339df6e6",
       "value": "training: "
      }
     },
     "3004d90864d94614a21b7d8d79487c14": {
      "model_module": "@jupyter-widgets/base",
      "model_module_version": "2.0.0",
      "model_name": "LayoutModel",
      "state": {}
     },
     "3012fd731302474d951a1f807344287f": {
      "model_module": "@jupyter-widgets/controls",
      "model_module_version": "2.0.0",
      "model_name": "HTMLModel",
      "state": {
       "layout": "IPY_MODEL_078d7de6e8884d34bf3662eae3fce459",
       "style": "IPY_MODEL_4285097c32704620a19837dfeb1419d8",
       "value": " 11/? [00:13&lt;00:00,  1.33s/it]"
      }
     },
     "31f82bcb0543448d87706863303123f7": {
      "model_module": "@jupyter-widgets/controls",
      "model_module_version": "2.0.0",
      "model_name": "HTMLModel",
      "state": {
       "layout": "IPY_MODEL_204995fcc06b4d0c900eb32a05a68988",
       "style": "IPY_MODEL_b5d8114a765b485a8dae3580d83c9a89",
       "value": " 0/5 [00:00&lt;?, ?it/s]"
      }
     },
     "3240995430634e558405482d85ee51b4": {
      "model_module": "@jupyter-widgets/controls",
      "model_module_version": "2.0.0",
      "model_name": "HBoxModel",
      "state": {
       "children": [
        "IPY_MODEL_fdf7934533a948b1a732ad948f9afac2",
        "IPY_MODEL_3b8cab1973a040438c9576d3c54b1253",
        "IPY_MODEL_991e94042c2848f29bcf468d1e2cd372"
       ],
       "layout": "IPY_MODEL_f85c666d33504fbcaed9e0c85bb22da3"
      }
     },
     "356a3b92dfcd4bf6b5041d8436f5f5be": {
      "model_module": "@jupyter-widgets/controls",
      "model_module_version": "2.0.0",
      "model_name": "HTMLStyleModel",
      "state": {
       "description_width": "",
       "font_size": null,
       "text_color": null
      }
     },
     "389222955cdd4e848598279934a52b08": {
      "model_module": "@jupyter-widgets/base",
      "model_module_version": "2.0.0",
      "model_name": "LayoutModel",
      "state": {}
     },
     "399f363b015c4991981d5248a2b7cb3d": {
      "model_module": "@jupyter-widgets/controls",
      "model_module_version": "2.0.0",
      "model_name": "HTMLModel",
      "state": {
       "layout": "IPY_MODEL_ed388208044344789afe422fa64c588c",
       "style": "IPY_MODEL_a57a10fca5df421bb463d48501e89d72",
       "value": "training: "
      }
     },
     "3a88b484225145ac9ce2e6b95636f68c": {
      "model_module": "@jupyter-widgets/controls",
      "model_module_version": "2.0.0",
      "model_name": "ProgressStyleModel",
      "state": {
       "description_width": ""
      }
     },
     "3afc6b78d1064d84b3ed14a6ae266fcc": {
      "model_module": "@jupyter-widgets/base",
      "model_module_version": "2.0.0",
      "model_name": "LayoutModel",
      "state": {}
     },
     "3b436fa8144a48cd8c60213b4b347bf0": {
      "model_module": "@jupyter-widgets/controls",
      "model_module_version": "2.0.0",
      "model_name": "HTMLModel",
      "state": {
       "layout": "IPY_MODEL_545f4482ca7d46ba89664507673dd7a1",
       "style": "IPY_MODEL_06cb2db23d8c40f4891f80f5636b16a0",
       "value": "training: "
      }
     },
     "3b8cab1973a040438c9576d3c54b1253": {
      "model_module": "@jupyter-widgets/controls",
      "model_module_version": "2.0.0",
      "model_name": "FloatProgressModel",
      "state": {
       "bar_style": "success",
       "layout": "IPY_MODEL_7d9b1009c50b465e8fc1608cce27ddb3",
       "max": 6,
       "style": "IPY_MODEL_fae94a8ac03443ef8084bb83f379d40b",
       "value": 6
      }
     },
     "3b982b6def9642a3afaf3b81d2672c78": {
      "model_module": "@jupyter-widgets/controls",
      "model_module_version": "2.0.0",
      "model_name": "FloatProgressModel",
      "state": {
       "layout": "IPY_MODEL_7bc44f92fabf40ca9568e5609ad8ea2a",
       "max": 8,
       "style": "IPY_MODEL_048599d3e912417bb27528fd9356e3cd",
       "value": 8
      }
     },
     "3ea80ba0ad5547abb57b70b042b19324": {
      "model_module": "@jupyter-widgets/controls",
      "model_module_version": "2.0.0",
      "model_name": "HBoxModel",
      "state": {
       "children": [
        "IPY_MODEL_e10059a14f8e49d0ad6a28d3bddbc75f",
        "IPY_MODEL_a1cbf45013874d0d93b09b8ed26c9b2c",
        "IPY_MODEL_a497d211ecb64f09a67aebd4472ae7f7"
       ],
       "layout": "IPY_MODEL_f680fc879d704c069587d5b7b99bbe38"
      }
     },
     "3ee9531dc0a04b0f9b991f4f11e9300c": {
      "model_module": "@jupyter-widgets/controls",
      "model_module_version": "2.0.0",
      "model_name": "ProgressStyleModel",
      "state": {
       "description_width": ""
      }
     },
     "4285097c32704620a19837dfeb1419d8": {
      "model_module": "@jupyter-widgets/controls",
      "model_module_version": "2.0.0",
      "model_name": "HTMLStyleModel",
      "state": {
       "description_width": "",
       "font_size": null,
       "text_color": null
      }
     },
     "42fee7d306054be0a7c3dce6865d41b1": {
      "model_module": "@jupyter-widgets/controls",
      "model_module_version": "2.0.0",
      "model_name": "FloatProgressModel",
      "state": {
       "layout": "IPY_MODEL_e8d287527b6d4f37ac214e4ff21c20f4",
       "max": 5,
       "style": "IPY_MODEL_8e10a0410f82437dac78f5b4287babd6",
       "value": 5
      }
     },
     "4450b70d95eb404592843318e7281ad3": {
      "model_module": "@jupyter-widgets/controls",
      "model_module_version": "2.0.0",
      "model_name": "HBoxModel",
      "state": {
       "children": [
        "IPY_MODEL_cca93d27f2534d1a939d0949df8ece64",
        "IPY_MODEL_e5bbb30d86e14510836e1cbd1742df4a",
        "IPY_MODEL_7d42e500b79d4a40ade0c3aa2df08bc8"
       ],
       "layout": "IPY_MODEL_b0cab2ee23d546aab3eaf1552a6d7886"
      }
     },
     "4459dcb18c2448f7a15e1155899415f6": {
      "model_module": "@jupyter-widgets/controls",
      "model_module_version": "2.0.0",
      "model_name": "FloatProgressModel",
      "state": {
       "bar_style": "success",
       "layout": "IPY_MODEL_e27ae412f14d48c4a19a1b3b66980c8a",
       "max": 7,
       "style": "IPY_MODEL_c2bfb4b34c1c496bbf6c87862fedff15",
       "value": 7
      }
     },
     "451833142da84b2ca66c07327c1bb3e3": {
      "model_module": "@jupyter-widgets/controls",
      "model_module_version": "2.0.0",
      "model_name": "HTMLStyleModel",
      "state": {
       "description_width": "",
       "font_size": null,
       "text_color": null
      }
     },
     "46c8577dd6cc41cd9898d2f103f349b5": {
      "model_module": "@jupyter-widgets/controls",
      "model_module_version": "2.0.0",
      "model_name": "HBoxModel",
      "state": {
       "children": [
        "IPY_MODEL_8958cdcf0c664c48b7f6a78ed5c17f62",
        "IPY_MODEL_5cb06788808d48ac80d9ededb3289ec0",
        "IPY_MODEL_26bc3d81a50544f7950641bf28469c54"
       ],
       "layout": "IPY_MODEL_a17790c9fb0d4b0eaf371b77ea77aa4e"
      }
     },
     "46e8517544214b1fad27cc64ff63c707": {
      "model_module": "@jupyter-widgets/controls",
      "model_module_version": "2.0.0",
      "model_name": "FloatProgressModel",
      "state": {
       "layout": "IPY_MODEL_f39b0d72aca74197a27673e9c7a10afe",
       "max": 5,
       "style": "IPY_MODEL_f743fe3bc22146e292a87dfedbbdb2ce",
       "value": 5
      }
     },
     "4a902763cfc04bed91d60fa311d0ae08": {
      "model_module": "@jupyter-widgets/controls",
      "model_module_version": "2.0.0",
      "model_name": "HBoxModel",
      "state": {
       "children": [
        "IPY_MODEL_8b3cc3b91f8248fb8e739afb3fe1a5c4",
        "IPY_MODEL_612064140cad4830bd29659b51ecad78",
        "IPY_MODEL_71ddd2e399fb4a8fae77cdfce809e7a5"
       ],
       "layout": "IPY_MODEL_9707213378124dc690e08dd707bb0cd4"
      }
     },
     "4abfaa714a074e5db37ceb7ff1ee44b9": {
      "model_module": "@jupyter-widgets/base",
      "model_module_version": "2.0.0",
      "model_name": "LayoutModel",
      "state": {}
     },
     "4b78ee4766f54a13b7bd521742ad3cf1": {
      "model_module": "@jupyter-widgets/base",
      "model_module_version": "2.0.0",
      "model_name": "LayoutModel",
      "state": {}
     },
     "5104494f76454566840b7709ef55b37f": {
      "model_module": "@jupyter-widgets/base",
      "model_module_version": "2.0.0",
      "model_name": "LayoutModel",
      "state": {}
     },
     "511264ae723d4dbb9e49c14c16d50da1": {
      "model_module": "@jupyter-widgets/controls",
      "model_module_version": "2.0.0",
      "model_name": "HTMLModel",
      "state": {
       "layout": "IPY_MODEL_81d11f37b0544789bb00451a8b0ed3c2",
       "style": "IPY_MODEL_e0c3b713a1724e5c92e3e5a22e09ab26",
       "value": " 11/? [00:13&lt;00:00,  1.30s/it]"
      }
     },
     "525c7e3c224a4f93b4a80d2d7d071be8": {
      "model_module": "@jupyter-widgets/controls",
      "model_module_version": "2.0.0",
      "model_name": "HTMLModel",
      "state": {
       "layout": "IPY_MODEL_ab6dce4f627d43b8a9484f676b8e0381",
       "style": "IPY_MODEL_1348fd01d1764e2999616bc084594a33",
       "value": "training: "
      }
     },
     "53514799786e416b8e5b3b1e339df6e6": {
      "model_module": "@jupyter-widgets/controls",
      "model_module_version": "2.0.0",
      "model_name": "HTMLStyleModel",
      "state": {
       "description_width": "",
       "font_size": null,
       "text_color": null
      }
     },
     "53710319d07c4a599c77462eebb81c50": {
      "model_module": "@jupyter-widgets/base",
      "model_module_version": "2.0.0",
      "model_name": "LayoutModel",
      "state": {}
     },
     "539ecef88beb4bb2be6563aac86346f5": {
      "model_module": "@jupyter-widgets/controls",
      "model_module_version": "2.0.0",
      "model_name": "FloatProgressModel",
      "state": {
       "bar_style": "success",
       "layout": "IPY_MODEL_5ecef65e34474138b55b0bd164af893f",
       "max": 6,
       "style": "IPY_MODEL_9b80a98f5a4c4b0083a4dcc0a1e30429",
       "value": 6
      }
     },
     "545f4482ca7d46ba89664507673dd7a1": {
      "model_module": "@jupyter-widgets/base",
      "model_module_version": "2.0.0",
      "model_name": "LayoutModel",
      "state": {}
     },
     "5818de57e7bc4e67bcdb3db109a10d72": {
      "model_module": "@jupyter-widgets/base",
      "model_module_version": "2.0.0",
      "model_name": "LayoutModel",
      "state": {}
     },
     "5b246c1d3346453c8e6923c58738170a": {
      "model_module": "@jupyter-widgets/controls",
      "model_module_version": "2.0.0",
      "model_name": "HTMLStyleModel",
      "state": {
       "description_width": "",
       "font_size": null,
       "text_color": null
      }
     },
     "5cb06788808d48ac80d9ededb3289ec0": {
      "model_module": "@jupyter-widgets/controls",
      "model_module_version": "2.0.0",
      "model_name": "FloatProgressModel",
      "state": {
       "bar_style": "success",
       "layout": "IPY_MODEL_674519036dba4b15aea0a4ff9b72ffc3",
       "max": 10,
       "style": "IPY_MODEL_3a88b484225145ac9ce2e6b95636f68c",
       "value": 10
      }
     },
     "5cb80e0b0af1407ca54af9f13e69afb5": {
      "model_module": "@jupyter-widgets/controls",
      "model_module_version": "2.0.0",
      "model_name": "HTMLStyleModel",
      "state": {
       "description_width": "",
       "font_size": null,
       "text_color": null
      }
     },
     "5d006624da3841be9b9f6a0c78451aa2": {
      "model_module": "@jupyter-widgets/controls",
      "model_module_version": "2.0.0",
      "model_name": "HTMLModel",
      "state": {
       "layout": "IPY_MODEL_8c5861c6e2b64c6dac6da37bce694615",
       "style": "IPY_MODEL_db69447bfd2a4c87ab45b333c3a10fa7",
       "value": "training:   0%"
      }
     },
     "5ecef65e34474138b55b0bd164af893f": {
      "model_module": "@jupyter-widgets/base",
      "model_module_version": "2.0.0",
      "model_name": "LayoutModel",
      "state": {}
     },
     "5ff99efee9cd42afa260440e0f21782a": {
      "model_module": "@jupyter-widgets/controls",
      "model_module_version": "2.0.0",
      "model_name": "ProgressStyleModel",
      "state": {
       "description_width": ""
      }
     },
     "612064140cad4830bd29659b51ecad78": {
      "model_module": "@jupyter-widgets/controls",
      "model_module_version": "2.0.0",
      "model_name": "FloatProgressModel",
      "state": {
       "bar_style": "success",
       "layout": "IPY_MODEL_77b8df9b846f4d7fb3645f543fc5c60b",
       "max": 8,
       "style": "IPY_MODEL_6437b67d91004e77aab69489ccfc1313",
       "value": 8
      }
     },
     "613f6662afac4a43b7414fd56123e732": {
      "model_module": "@jupyter-widgets/controls",
      "model_module_version": "2.0.0",
      "model_name": "ProgressStyleModel",
      "state": {
       "description_width": ""
      }
     },
     "61678334a67048ca9c7d3741d9ba13d7": {
      "model_module": "@jupyter-widgets/base",
      "model_module_version": "2.0.0",
      "model_name": "LayoutModel",
      "state": {}
     },
     "61f9fa36f6ae4ff7a291db39409177f7": {
      "model_module": "@jupyter-widgets/base",
      "model_module_version": "2.0.0",
      "model_name": "LayoutModel",
      "state": {}
     },
     "6437b67d91004e77aab69489ccfc1313": {
      "model_module": "@jupyter-widgets/controls",
      "model_module_version": "2.0.0",
      "model_name": "ProgressStyleModel",
      "state": {
       "description_width": ""
      }
     },
     "64ee241bca054d99b64b420dac2915e6": {
      "model_module": "@jupyter-widgets/controls",
      "model_module_version": "2.0.0",
      "model_name": "HBoxModel",
      "state": {
       "children": [
        "IPY_MODEL_b27f26599bba448297daba6f128ff3a7",
        "IPY_MODEL_70f12f34e7c44ba5a568ef9aa7675fc6",
        "IPY_MODEL_cfc632c1547741e4b72d71401ff68f31"
       ],
       "layout": "IPY_MODEL_5104494f76454566840b7709ef55b37f"
      }
     },
     "665dabc9be5a4512bf01098897bca226": {
      "model_module": "@jupyter-widgets/controls",
      "model_module_version": "2.0.0",
      "model_name": "HBoxModel",
      "state": {
       "children": [
        "IPY_MODEL_2cb6923efb3c410aaabf44fe6e1587e5",
        "IPY_MODEL_3b982b6def9642a3afaf3b81d2672c78",
        "IPY_MODEL_abe186782cbb495abc3496f43c9d3d29"
       ],
       "layout": "IPY_MODEL_a399add4facf4b0190c301bed11d7cc9"
      }
     },
     "672e10cd6a484f6fb83aad739b6828ea": {
      "model_module": "@jupyter-widgets/base",
      "model_module_version": "2.0.0",
      "model_name": "LayoutModel",
      "state": {}
     },
     "674519036dba4b15aea0a4ff9b72ffc3": {
      "model_module": "@jupyter-widgets/base",
      "model_module_version": "2.0.0",
      "model_name": "LayoutModel",
      "state": {}
     },
     "682bab0b659c4d08b3817a5198b58df2": {
      "model_module": "@jupyter-widgets/base",
      "model_module_version": "2.0.0",
      "model_name": "LayoutModel",
      "state": {}
     },
     "6865639ff60e4d1e87c36a5046dbd1fb": {
      "model_module": "@jupyter-widgets/controls",
      "model_module_version": "2.0.0",
      "model_name": "HTMLStyleModel",
      "state": {
       "description_width": "",
       "font_size": null,
       "text_color": null
      }
     },
     "6ba7450d2a104e90be5b5bb35a22cb57": {
      "model_module": "@jupyter-widgets/controls",
      "model_module_version": "2.0.0",
      "model_name": "ProgressStyleModel",
      "state": {
       "description_width": ""
      }
     },
     "6cf7e291c0ae4cb0b935c291ee34025a": {
      "model_module": "@jupyter-widgets/base",
      "model_module_version": "2.0.0",
      "model_name": "LayoutModel",
      "state": {}
     },
     "6e1f536bd07e46a8ba73be0e1316129b": {
      "model_module": "@jupyter-widgets/base",
      "model_module_version": "2.0.0",
      "model_name": "LayoutModel",
      "state": {}
     },
     "6e6e6d3af57345a78002acd7f11fcd2f": {
      "model_module": "@jupyter-widgets/base",
      "model_module_version": "2.0.0",
      "model_name": "LayoutModel",
      "state": {}
     },
     "6facad8627304308be41ad1e36c57843": {
      "model_module": "@jupyter-widgets/controls",
      "model_module_version": "2.0.0",
      "model_name": "HTMLStyleModel",
      "state": {
       "description_width": "",
       "font_size": null,
       "text_color": null
      }
     },
     "70d9caa457374818ac98d43f2dc038fa": {
      "model_module": "@jupyter-widgets/base",
      "model_module_version": "2.0.0",
      "model_name": "LayoutModel",
      "state": {}
     },
     "70f12f34e7c44ba5a568ef9aa7675fc6": {
      "model_module": "@jupyter-widgets/controls",
      "model_module_version": "2.0.0",
      "model_name": "FloatProgressModel",
      "state": {
       "bar_style": "success",
       "layout": "IPY_MODEL_cb985636edbb452fb16276e8cc32be66",
       "max": 5,
       "style": "IPY_MODEL_068a36f3d2f0405ea625dcdedc551f4d",
       "value": 5
      }
     },
     "71ddd2e399fb4a8fae77cdfce809e7a5": {
      "model_module": "@jupyter-widgets/controls",
      "model_module_version": "2.0.0",
      "model_name": "HTMLModel",
      "state": {
       "layout": "IPY_MODEL_f3233f8793c04f0095870d209d78ca6e",
       "style": "IPY_MODEL_920bb817a9ef4d1ab392ad4b2091adab",
       "value": " 9/? [10:54&lt;00:00,  2.32s/it]"
      }
     },
     "74ef95a793f8480d8201447cb60659c9": {
      "model_module": "@jupyter-widgets/controls",
      "model_module_version": "2.0.0",
      "model_name": "HTMLStyleModel",
      "state": {
       "description_width": "",
       "font_size": null,
       "text_color": null
      }
     },
     "76e8e2ec9365465fb89e2cc4e2bf1999": {
      "model_module": "@jupyter-widgets/controls",
      "model_module_version": "2.0.0",
      "model_name": "HTMLStyleModel",
      "state": {
       "description_width": "",
       "font_size": null,
       "text_color": null
      }
     },
     "77b3ae93430a44c89a82034a4ba1a151": {
      "model_module": "@jupyter-widgets/controls",
      "model_module_version": "2.0.0",
      "model_name": "HTMLModel",
      "state": {
       "layout": "IPY_MODEL_f36b399897754355accd976d1b00c1c1",
       "style": "IPY_MODEL_a5f93e2c277341f19855eb6799b9a1ca",
       "value": "training: "
      }
     },
     "77b8df9b846f4d7fb3645f543fc5c60b": {
      "model_module": "@jupyter-widgets/base",
      "model_module_version": "2.0.0",
      "model_name": "LayoutModel",
      "state": {}
     },
     "77c53c51a3d840e98798e7c4e1d0c530": {
      "model_module": "@jupyter-widgets/base",
      "model_module_version": "2.0.0",
      "model_name": "LayoutModel",
      "state": {}
     },
     "788c1c93d4ee4169888ff9b56a134157": {
      "model_module": "@jupyter-widgets/controls",
      "model_module_version": "2.0.0",
      "model_name": "HTMLStyleModel",
      "state": {
       "description_width": "",
       "font_size": null,
       "text_color": null
      }
     },
     "78fc6c5414df40ee824fe684a4ef349d": {
      "model_module": "@jupyter-widgets/controls",
      "model_module_version": "2.0.0",
      "model_name": "HTMLModel",
      "state": {
       "layout": "IPY_MODEL_2e8726841c5046d8a324cfce774a0173",
       "style": "IPY_MODEL_82a5c91308b9491db8128617d1d413ea",
       "value": "training: "
      }
     },
     "7afa8b9f939a4a8dad5df40560822213": {
      "model_module": "@jupyter-widgets/controls",
      "model_module_version": "2.0.0",
      "model_name": "HTMLStyleModel",
      "state": {
       "description_width": "",
       "font_size": null,
       "text_color": null
      }
     },
     "7bc44f92fabf40ca9568e5609ad8ea2a": {
      "model_module": "@jupyter-widgets/base",
      "model_module_version": "2.0.0",
      "model_name": "LayoutModel",
      "state": {}
     },
     "7d42e500b79d4a40ade0c3aa2df08bc8": {
      "model_module": "@jupyter-widgets/controls",
      "model_module_version": "2.0.0",
      "model_name": "HTMLModel",
      "state": {
       "layout": "IPY_MODEL_53710319d07c4a599c77462eebb81c50",
       "style": "IPY_MODEL_2a39a05cdac3455f8c7cefda3053c98a",
       "value": " 11/? [00:12&lt;00:00,  1.27s/it]"
      }
     },
     "7d76412dbec349a7b12d8132b71ed025": {
      "model_module": "@jupyter-widgets/controls",
      "model_module_version": "2.0.0",
      "model_name": "HBoxModel",
      "state": {
       "children": [
        "IPY_MODEL_399f363b015c4991981d5248a2b7cb3d",
        "IPY_MODEL_a4ae297c6c184c289b9a94b847b182ab",
        "IPY_MODEL_89c82d29e4cb4a99bd30fc20be8ac596"
       ],
       "layout": "IPY_MODEL_1af6ccd5d4524b52a186bb0ef17e7ee0"
      }
     },
     "7d9b1009c50b465e8fc1608cce27ddb3": {
      "model_module": "@jupyter-widgets/base",
      "model_module_version": "2.0.0",
      "model_name": "LayoutModel",
      "state": {}
     },
     "7e70c83a4ed243a580675402bcf94270": {
      "model_module": "@jupyter-widgets/controls",
      "model_module_version": "2.0.0",
      "model_name": "HBoxModel",
      "state": {
       "children": [
        "IPY_MODEL_3b436fa8144a48cd8c60213b4b347bf0",
        "IPY_MODEL_cefe7d12b83047dc9bee6bc03e1411c1",
        "IPY_MODEL_cd2ce0dabb6548b19cc0c0545280de56"
       ],
       "layout": "IPY_MODEL_e0bf83b8a9554202b2075b31b81bc97e"
      }
     },
     "7f39e726cd6446419b1a01c1241360e6": {
      "model_module": "@jupyter-widgets/controls",
      "model_module_version": "2.0.0",
      "model_name": "HTMLStyleModel",
      "state": {
       "description_width": "",
       "font_size": null,
       "text_color": null
      }
     },
     "7f5b3365f8a14b7eb5077ee3a9d70f3e": {
      "model_module": "@jupyter-widgets/base",
      "model_module_version": "2.0.0",
      "model_name": "LayoutModel",
      "state": {}
     },
     "80efd6c322a74a0b856a0a5a4ace98e1": {
      "model_module": "@jupyter-widgets/base",
      "model_module_version": "2.0.0",
      "model_name": "LayoutModel",
      "state": {}
     },
     "81b1856592b04a8f9a61ba111293ced5": {
      "model_module": "@jupyter-widgets/base",
      "model_module_version": "2.0.0",
      "model_name": "LayoutModel",
      "state": {}
     },
     "81d11f37b0544789bb00451a8b0ed3c2": {
      "model_module": "@jupyter-widgets/base",
      "model_module_version": "2.0.0",
      "model_name": "LayoutModel",
      "state": {}
     },
     "8262714655424f068949ff6815fa911c": {
      "model_module": "@jupyter-widgets/controls",
      "model_module_version": "2.0.0",
      "model_name": "ProgressStyleModel",
      "state": {
       "description_width": ""
      }
     },
     "82a5c91308b9491db8128617d1d413ea": {
      "model_module": "@jupyter-widgets/controls",
      "model_module_version": "2.0.0",
      "model_name": "HTMLStyleModel",
      "state": {
       "description_width": "",
       "font_size": null,
       "text_color": null
      }
     },
     "836676cb338e4065b0b26d79a05cac8b": {
      "model_module": "@jupyter-widgets/base",
      "model_module_version": "2.0.0",
      "model_name": "LayoutModel",
      "state": {}
     },
     "83f40879bcb940f3bd711f09cd581c43": {
      "model_module": "@jupyter-widgets/controls",
      "model_module_version": "2.0.0",
      "model_name": "FloatProgressModel",
      "state": {
       "layout": "IPY_MODEL_7f5b3365f8a14b7eb5077ee3a9d70f3e",
       "max": 5,
       "style": "IPY_MODEL_bab1b3b52f0a49d6be7b859acc49f807",
       "value": 5
      }
     },
     "840aaf923ec846d2bdac219213c9a1cc": {
      "model_module": "@jupyter-widgets/controls",
      "model_module_version": "2.0.0",
      "model_name": "HTMLStyleModel",
      "state": {
       "description_width": "",
       "font_size": null,
       "text_color": null
      }
     },
     "869a855c99cd463ba9bf7da3ee29eed9": {
      "model_module": "@jupyter-widgets/controls",
      "model_module_version": "2.0.0",
      "model_name": "HTMLStyleModel",
      "state": {
       "description_width": "",
       "font_size": null,
       "text_color": null
      }
     },
     "8958cdcf0c664c48b7f6a78ed5c17f62": {
      "model_module": "@jupyter-widgets/controls",
      "model_module_version": "2.0.0",
      "model_name": "HTMLModel",
      "state": {
       "layout": "IPY_MODEL_a6de3cc10d8040e4ac3f40af1077657d",
       "style": "IPY_MODEL_a8dd31252bf840528fc962360b96b358",
       "value": "training: "
      }
     },
     "89c82d29e4cb4a99bd30fc20be8ac596": {
      "model_module": "@jupyter-widgets/controls",
      "model_module_version": "2.0.0",
      "model_name": "HTMLModel",
      "state": {
       "layout": "IPY_MODEL_129e5652adc14db0b3c082fe8adfc27d",
       "style": "IPY_MODEL_91d4fb07a7be468e8a11357f1f92b000",
       "value": " 11/? [02:11&lt;00:00,  2.34s/it]"
      }
     },
     "8ae5916e92b540c18816f7ca8da5e241": {
      "model_module": "@jupyter-widgets/base",
      "model_module_version": "2.0.0",
      "model_name": "LayoutModel",
      "state": {}
     },
     "8b3cc3b91f8248fb8e739afb3fe1a5c4": {
      "model_module": "@jupyter-widgets/controls",
      "model_module_version": "2.0.0",
      "model_name": "HTMLModel",
      "state": {
       "layout": "IPY_MODEL_0cbf6189b9d242fc9d57fefc6ed0c9d8",
       "style": "IPY_MODEL_bd2290c83f0e437fa5841cedcae5f79e",
       "value": "training: "
      }
     },
     "8c5861c6e2b64c6dac6da37bce694615": {
      "model_module": "@jupyter-widgets/base",
      "model_module_version": "2.0.0",
      "model_name": "LayoutModel",
      "state": {}
     },
     "8d7d0c3b565b45488d455b240aea373c": {
      "model_module": "@jupyter-widgets/base",
      "model_module_version": "2.0.0",
      "model_name": "LayoutModel",
      "state": {}
     },
     "8da6a7efad9841db9a1040c824a38c63": {
      "model_module": "@jupyter-widgets/base",
      "model_module_version": "2.0.0",
      "model_name": "LayoutModel",
      "state": {}
     },
     "8e10a0410f82437dac78f5b4287babd6": {
      "model_module": "@jupyter-widgets/controls",
      "model_module_version": "2.0.0",
      "model_name": "ProgressStyleModel",
      "state": {
       "description_width": ""
      }
     },
     "8f464bf37290482bbcb177ced88cbbc9": {
      "model_module": "@jupyter-widgets/base",
      "model_module_version": "2.0.0",
      "model_name": "LayoutModel",
      "state": {}
     },
     "90b20dd563934d56a52b0a05676d8078": {
      "model_module": "@jupyter-widgets/base",
      "model_module_version": "2.0.0",
      "model_name": "LayoutModel",
      "state": {}
     },
     "91d4fb07a7be468e8a11357f1f92b000": {
      "model_module": "@jupyter-widgets/controls",
      "model_module_version": "2.0.0",
      "model_name": "HTMLStyleModel",
      "state": {
       "description_width": "",
       "font_size": null,
       "text_color": null
      }
     },
     "920bb817a9ef4d1ab392ad4b2091adab": {
      "model_module": "@jupyter-widgets/controls",
      "model_module_version": "2.0.0",
      "model_name": "HTMLStyleModel",
      "state": {
       "description_width": "",
       "font_size": null,
       "text_color": null
      }
     },
     "93424c0119e24a5a9e5efab6135e42b2": {
      "model_module": "@jupyter-widgets/controls",
      "model_module_version": "2.0.0",
      "model_name": "HTMLModel",
      "state": {
       "layout": "IPY_MODEL_f54a7a81419247ba9d04b613d0e3331a",
       "style": "IPY_MODEL_2e9d8a91b3ce4f24ae9940b82b3191bf",
       "value": " 0/5 [00:00&lt;?, ?it/s]"
      }
     },
     "94d75951026044b7b82e032a25725e95": {
      "model_module": "@jupyter-widgets/controls",
      "model_module_version": "2.0.0",
      "model_name": "HTMLModel",
      "state": {
       "layout": "IPY_MODEL_61678334a67048ca9c7d3741d9ba13d7",
       "style": "IPY_MODEL_fb7977d19dfd4c85ae16adb136937d28",
       "value": " 11/? [03:56&lt;00:00,  2.58s/it]"
      }
     },
     "95a5f3a7efbd4cc5bfe138aebb80b3db": {
      "model_module": "@jupyter-widgets/controls",
      "model_module_version": "2.0.0",
      "model_name": "HTMLModel",
      "state": {
       "layout": "IPY_MODEL_8ae5916e92b540c18816f7ca8da5e241",
       "style": "IPY_MODEL_1ec6a52421ca4a02b8d7146b37c1fbf3",
       "value": " 0/5 [00:00&lt;?, ?it/s]"
      }
     },
     "9707213378124dc690e08dd707bb0cd4": {
      "model_module": "@jupyter-widgets/base",
      "model_module_version": "2.0.0",
      "model_name": "LayoutModel",
      "state": {}
     },
     "97d1f155f73b4b0dae55bebb32f8c3b5": {
      "model_module": "@jupyter-widgets/base",
      "model_module_version": "2.0.0",
      "model_name": "LayoutModel",
      "state": {}
     },
     "97dc019bb6d64d4e868637b970ccda37": {
      "model_module": "@jupyter-widgets/base",
      "model_module_version": "2.0.0",
      "model_name": "LayoutModel",
      "state": {}
     },
     "9845b6d758464cff9c03ca5f39119679": {
      "model_module": "@jupyter-widgets/controls",
      "model_module_version": "2.0.0",
      "model_name": "HBoxModel",
      "state": {
       "children": [
        "IPY_MODEL_11164202eb0d42f0a52a2160ff881f4a",
        "IPY_MODEL_d60f7d4cb39c4516bfde4374819fa8f9",
        "IPY_MODEL_31f82bcb0543448d87706863303123f7"
       ],
       "layout": "IPY_MODEL_61f9fa36f6ae4ff7a291db39409177f7"
      }
     },
     "991e94042c2848f29bcf468d1e2cd372": {
      "model_module": "@jupyter-widgets/controls",
      "model_module_version": "2.0.0",
      "model_name": "HTMLModel",
      "state": {
       "layout": "IPY_MODEL_90b20dd563934d56a52b0a05676d8078",
       "style": "IPY_MODEL_5b246c1d3346453c8e6923c58738170a",
       "value": " 7/? [02:08&lt;00:00,  2.56s/it]"
      }
     },
     "9b80a98f5a4c4b0083a4dcc0a1e30429": {
      "model_module": "@jupyter-widgets/controls",
      "model_module_version": "2.0.0",
      "model_name": "ProgressStyleModel",
      "state": {
       "description_width": ""
      }
     },
     "9c19022076da4a9cba8c96e3e549d0f4": {
      "model_module": "@jupyter-widgets/controls",
      "model_module_version": "2.0.0",
      "model_name": "FloatProgressModel",
      "state": {
       "layout": "IPY_MODEL_c9237c06a7694d7c93b7d297a446520c",
       "max": 5,
       "style": "IPY_MODEL_613f6662afac4a43b7414fd56123e732",
       "value": 5
      }
     },
     "9c9533a9caf14ff597065530613b4303": {
      "model_module": "@jupyter-widgets/base",
      "model_module_version": "2.0.0",
      "model_name": "LayoutModel",
      "state": {}
     },
     "9fe8527543d048a3bd6cd70b5efcdfab": {
      "model_module": "@jupyter-widgets/controls",
      "model_module_version": "2.0.0",
      "model_name": "ProgressStyleModel",
      "state": {
       "description_width": ""
      }
     },
     "a09c1f6a95ff49d7942e0e1e187563de": {
      "model_module": "@jupyter-widgets/base",
      "model_module_version": "2.0.0",
      "model_name": "LayoutModel",
      "state": {}
     },
     "a13229e659a1458d8aaae7072aac495b": {
      "model_module": "@jupyter-widgets/controls",
      "model_module_version": "2.0.0",
      "model_name": "HTMLModel",
      "state": {
       "layout": "IPY_MODEL_2280b0130d934b138082f78226c14661",
       "style": "IPY_MODEL_5cb80e0b0af1407ca54af9f13e69afb5",
       "value": "training: "
      }
     },
     "a17790c9fb0d4b0eaf371b77ea77aa4e": {
      "model_module": "@jupyter-widgets/base",
      "model_module_version": "2.0.0",
      "model_name": "LayoutModel",
      "state": {}
     },
     "a1cbf45013874d0d93b09b8ed26c9b2c": {
      "model_module": "@jupyter-widgets/controls",
      "model_module_version": "2.0.0",
      "model_name": "FloatProgressModel",
      "state": {
       "layout": "IPY_MODEL_4abfaa714a074e5db37ceb7ff1ee44b9",
       "max": 5,
       "style": "IPY_MODEL_6ba7450d2a104e90be5b5bb35a22cb57",
       "value": 5
      }
     },
     "a281c774e6214a0789fddfb1889c7fdd": {
      "model_module": "@jupyter-widgets/controls",
      "model_module_version": "2.0.0",
      "model_name": "HTMLStyleModel",
      "state": {
       "description_width": "",
       "font_size": null,
       "text_color": null
      }
     },
     "a2a06b2ad39143dfa832c6a7288a6db0": {
      "model_module": "@jupyter-widgets/base",
      "model_module_version": "2.0.0",
      "model_name": "LayoutModel",
      "state": {}
     },
     "a2ad0e6348364213b532a96187309b9d": {
      "model_module": "@jupyter-widgets/base",
      "model_module_version": "2.0.0",
      "model_name": "LayoutModel",
      "state": {}
     },
     "a399add4facf4b0190c301bed11d7cc9": {
      "model_module": "@jupyter-widgets/base",
      "model_module_version": "2.0.0",
      "model_name": "LayoutModel",
      "state": {}
     },
     "a3fa29378107418c9c62ef1855a23608": {
      "model_module": "@jupyter-widgets/controls",
      "model_module_version": "2.0.0",
      "model_name": "HBoxModel",
      "state": {
       "children": [
        "IPY_MODEL_fbcad1998eb04f79b58e5d4f771484bf",
        "IPY_MODEL_2cb4fd37b1c5441cabc6b47639bf5d4b",
        "IPY_MODEL_93424c0119e24a5a9e5efab6135e42b2"
       ],
       "layout": "IPY_MODEL_0c8603b2f1db4fd99f263d906f448885"
      }
     },
     "a497d211ecb64f09a67aebd4472ae7f7": {
      "model_module": "@jupyter-widgets/controls",
      "model_module_version": "2.0.0",
      "model_name": "HTMLModel",
      "state": {
       "layout": "IPY_MODEL_3004d90864d94614a21b7d8d79487c14",
       "style": "IPY_MODEL_a281c774e6214a0789fddfb1889c7fdd",
       "value": " 11/? [00:12&lt;00:00,  1.24s/it]"
      }
     },
     "a4ae297c6c184c289b9a94b847b182ab": {
      "model_module": "@jupyter-widgets/controls",
      "model_module_version": "2.0.0",
      "model_name": "FloatProgressModel",
      "state": {
       "bar_style": "success",
       "layout": "IPY_MODEL_5818de57e7bc4e67bcdb3db109a10d72",
       "max": 10,
       "style": "IPY_MODEL_9fe8527543d048a3bd6cd70b5efcdfab",
       "value": 10
      }
     },
     "a57a10fca5df421bb463d48501e89d72": {
      "model_module": "@jupyter-widgets/controls",
      "model_module_version": "2.0.0",
      "model_name": "HTMLStyleModel",
      "state": {
       "description_width": "",
       "font_size": null,
       "text_color": null
      }
     },
     "a59adaf36fe34eeba2415d1f745e9adf": {
      "model_module": "@jupyter-widgets/controls",
      "model_module_version": "2.0.0",
      "model_name": "HTMLModel",
      "state": {
       "layout": "IPY_MODEL_4b78ee4766f54a13b7bd521742ad3cf1",
       "style": "IPY_MODEL_451833142da84b2ca66c07327c1bb3e3",
       "value": "training: "
      }
     },
     "a5f93e2c277341f19855eb6799b9a1ca": {
      "model_module": "@jupyter-widgets/controls",
      "model_module_version": "2.0.0",
      "model_name": "HTMLStyleModel",
      "state": {
       "description_width": "",
       "font_size": null,
       "text_color": null
      }
     },
     "a64646a25ef04b058293fa4dbc6e0000": {
      "model_module": "@jupyter-widgets/base",
      "model_module_version": "2.0.0",
      "model_name": "LayoutModel",
      "state": {}
     },
     "a6de3cc10d8040e4ac3f40af1077657d": {
      "model_module": "@jupyter-widgets/base",
      "model_module_version": "2.0.0",
      "model_name": "LayoutModel",
      "state": {}
     },
     "a80f9d725a864dc7a26deb6da84d7e1b": {
      "model_module": "@jupyter-widgets/controls",
      "model_module_version": "2.0.0",
      "model_name": "HBoxModel",
      "state": {
       "children": [
        "IPY_MODEL_b67780f2601f447eb25bc875bf2ff033",
        "IPY_MODEL_05600931354a48b9b5a47b98c500436f",
        "IPY_MODEL_95a5f3a7efbd4cc5bfe138aebb80b3db"
       ],
       "layout": "IPY_MODEL_8da6a7efad9841db9a1040c824a38c63"
      }
     },
     "a8dd31252bf840528fc962360b96b358": {
      "model_module": "@jupyter-widgets/controls",
      "model_module_version": "2.0.0",
      "model_name": "HTMLStyleModel",
      "state": {
       "description_width": "",
       "font_size": null,
       "text_color": null
      }
     },
     "a914018923b84335914f9609a8063250": {
      "model_module": "@jupyter-widgets/controls",
      "model_module_version": "2.0.0",
      "model_name": "HTMLModel",
      "state": {
       "layout": "IPY_MODEL_07f8e4fc943349d98cd3e732b0501336",
       "style": "IPY_MODEL_034a0486e1b34203b25d9f3c315b7a30",
       "value": " 11/? [00:13&lt;00:00,  1.35s/it]"
      }
     },
     "a96ee8bbdfc843c4ba4520ca3bba9951": {
      "model_module": "@jupyter-widgets/controls",
      "model_module_version": "2.0.0",
      "model_name": "HTMLModel",
      "state": {
       "layout": "IPY_MODEL_8d7d0c3b565b45488d455b240aea373c",
       "style": "IPY_MODEL_869a855c99cd463ba9bf7da3ee29eed9",
       "value": "training: "
      }
     },
     "a98b4cba5c4f411586c30f7ca88aff4e": {
      "model_module": "@jupyter-widgets/base",
      "model_module_version": "2.0.0",
      "model_name": "LayoutModel",
      "state": {}
     },
     "ab6dce4f627d43b8a9484f676b8e0381": {
      "model_module": "@jupyter-widgets/base",
      "model_module_version": "2.0.0",
      "model_name": "LayoutModel",
      "state": {}
     },
     "abe186782cbb495abc3496f43c9d3d29": {
      "model_module": "@jupyter-widgets/controls",
      "model_module_version": "2.0.0",
      "model_name": "HTMLModel",
      "state": {
       "layout": "IPY_MODEL_a09c1f6a95ff49d7942e0e1e187563de",
       "style": "IPY_MODEL_2bb5822129ca4724afad8179ab34b2d2",
       "value": " 9/? [00:19&lt;00:00,  2.29s/it]"
      }
     },
     "ad143156c9bc403abf0e69c6cbefc360": {
      "model_module": "@jupyter-widgets/base",
      "model_module_version": "2.0.0",
      "model_name": "LayoutModel",
      "state": {}
     },
     "b0cab2ee23d546aab3eaf1552a6d7886": {
      "model_module": "@jupyter-widgets/base",
      "model_module_version": "2.0.0",
      "model_name": "LayoutModel",
      "state": {}
     },
     "b27f26599bba448297daba6f128ff3a7": {
      "model_module": "@jupyter-widgets/controls",
      "model_module_version": "2.0.0",
      "model_name": "HTMLModel",
      "state": {
       "layout": "IPY_MODEL_a2ad0e6348364213b532a96187309b9d",
       "style": "IPY_MODEL_02517c86b68e4049b551bf44c2f2c9ec",
       "value": "training: "
      }
     },
     "b32aea1c0302415784ba5e0e2f350b95": {
      "model_module": "@jupyter-widgets/controls",
      "model_module_version": "2.0.0",
      "model_name": "ProgressStyleModel",
      "state": {
       "description_width": ""
      }
     },
     "b32ee5e1021c4f79a4bbbd72406f2a8c": {
      "model_module": "@jupyter-widgets/controls",
      "model_module_version": "2.0.0",
      "model_name": "HTMLStyleModel",
      "state": {
       "description_width": "",
       "font_size": null,
       "text_color": null
      }
     },
     "b3faf8b0734a4e948c78495b4e0b678c": {
      "model_module": "@jupyter-widgets/base",
      "model_module_version": "2.0.0",
      "model_name": "LayoutModel",
      "state": {}
     },
     "b431dd55829b48739e4ad7b533dc2d2b": {
      "model_module": "@jupyter-widgets/controls",
      "model_module_version": "2.0.0",
      "model_name": "HBoxModel",
      "state": {
       "children": [
        "IPY_MODEL_a96ee8bbdfc843c4ba4520ca3bba9951",
        "IPY_MODEL_9c19022076da4a9cba8c96e3e549d0f4",
        "IPY_MODEL_511264ae723d4dbb9e49c14c16d50da1"
       ],
       "layout": "IPY_MODEL_70d9caa457374818ac98d43f2dc038fa"
      }
     },
     "b5d8114a765b485a8dae3580d83c9a89": {
      "model_module": "@jupyter-widgets/controls",
      "model_module_version": "2.0.0",
      "model_name": "HTMLStyleModel",
      "state": {
       "description_width": "",
       "font_size": null,
       "text_color": null
      }
     },
     "b67780f2601f447eb25bc875bf2ff033": {
      "model_module": "@jupyter-widgets/controls",
      "model_module_version": "2.0.0",
      "model_name": "HTMLModel",
      "state": {
       "layout": "IPY_MODEL_bb73bba8c9f649cea92515fdc8f87426",
       "style": "IPY_MODEL_356a3b92dfcd4bf6b5041d8436f5f5be",
       "value": "training:   0%"
      }
     },
     "b743ab6c3a324e8f87cf67e63b1d012a": {
      "model_module": "@jupyter-widgets/controls",
      "model_module_version": "2.0.0",
      "model_name": "HTMLModel",
      "state": {
       "layout": "IPY_MODEL_97dc019bb6d64d4e868637b970ccda37",
       "style": "IPY_MODEL_eebf9583c66c40508c3ff600e3caa600",
       "value": " 51/? [09:28&lt;00:00,  3.69it/s]"
      }
     },
     "b8e706f379d04ce5a22e8adf74a9725c": {
      "model_module": "@jupyter-widgets/base",
      "model_module_version": "2.0.0",
      "model_name": "LayoutModel",
      "state": {}
     },
     "bab1b3b52f0a49d6be7b859acc49f807": {
      "model_module": "@jupyter-widgets/controls",
      "model_module_version": "2.0.0",
      "model_name": "ProgressStyleModel",
      "state": {
       "description_width": ""
      }
     },
     "bb73bba8c9f649cea92515fdc8f87426": {
      "model_module": "@jupyter-widgets/base",
      "model_module_version": "2.0.0",
      "model_name": "LayoutModel",
      "state": {}
     },
     "bd2290c83f0e437fa5841cedcae5f79e": {
      "model_module": "@jupyter-widgets/controls",
      "model_module_version": "2.0.0",
      "model_name": "HTMLStyleModel",
      "state": {
       "description_width": "",
       "font_size": null,
       "text_color": null
      }
     },
     "bf29f80e683347d2a333aaf68f4d74dc": {
      "model_module": "@jupyter-widgets/controls",
      "model_module_version": "2.0.0",
      "model_name": "HBoxModel",
      "state": {
       "children": [
        "IPY_MODEL_218f907b21f44aa3ad8e43ee1963c9d9",
        "IPY_MODEL_83f40879bcb940f3bd711f09cd581c43",
        "IPY_MODEL_e28dc9a06a2d43a683c6d54c913aa501"
       ],
       "layout": "IPY_MODEL_b3faf8b0734a4e948c78495b4e0b678c"
      }
     },
     "c23ef24362e148128f06b577efe17ea2": {
      "model_module": "@jupyter-widgets/controls",
      "model_module_version": "2.0.0",
      "model_name": "HTMLStyleModel",
      "state": {
       "description_width": "",
       "font_size": null,
       "text_color": null
      }
     },
     "c2bfb4b34c1c496bbf6c87862fedff15": {
      "model_module": "@jupyter-widgets/controls",
      "model_module_version": "2.0.0",
      "model_name": "ProgressStyleModel",
      "state": {
       "description_width": ""
      }
     },
     "c4746e04cbdf4c6e814233afb7d8b89b": {
      "model_module": "@jupyter-widgets/base",
      "model_module_version": "2.0.0",
      "model_name": "LayoutModel",
      "state": {}
     },
     "c4e9a165056446658b4a566e2b39d9de": {
      "model_module": "@jupyter-widgets/base",
      "model_module_version": "2.0.0",
      "model_name": "LayoutModel",
      "state": {}
     },
     "c59b9eafe92d4d339ae620bcf9f70308": {
      "model_module": "@jupyter-widgets/base",
      "model_module_version": "2.0.0",
      "model_name": "LayoutModel",
      "state": {}
     },
     "c8a8ae7496af44a48609154098857883": {
      "model_module": "@jupyter-widgets/controls",
      "model_module_version": "2.0.0",
      "model_name": "ProgressStyleModel",
      "state": {
       "description_width": ""
      }
     },
     "c9237c06a7694d7c93b7d297a446520c": {
      "model_module": "@jupyter-widgets/base",
      "model_module_version": "2.0.0",
      "model_name": "LayoutModel",
      "state": {}
     },
     "cb985636edbb452fb16276e8cc32be66": {
      "model_module": "@jupyter-widgets/base",
      "model_module_version": "2.0.0",
      "model_name": "LayoutModel",
      "state": {}
     },
     "cca93d27f2534d1a939d0949df8ece64": {
      "model_module": "@jupyter-widgets/controls",
      "model_module_version": "2.0.0",
      "model_name": "HTMLModel",
      "state": {
       "layout": "IPY_MODEL_1d73a2ad4f384947bb363f1771a57c33",
       "style": "IPY_MODEL_b32ee5e1021c4f79a4bbbd72406f2a8c",
       "value": "training: "
      }
     },
     "cd2ce0dabb6548b19cc0c0545280de56": {
      "model_module": "@jupyter-widgets/controls",
      "model_module_version": "2.0.0",
      "model_name": "HTMLModel",
      "state": {
       "layout": "IPY_MODEL_672e10cd6a484f6fb83aad739b6828ea",
       "style": "IPY_MODEL_d865a285792f4832afaa07296ea5d322",
       "value": " 11/? [00:22&lt;00:00,  2.24s/it]"
      }
     },
     "cdf2e107803e425b80312480d16d8c2d": {
      "model_module": "@jupyter-widgets/controls",
      "model_module_version": "2.0.0",
      "model_name": "FloatProgressModel",
      "state": {
       "bar_style": "success",
       "layout": "IPY_MODEL_ec7d7c58fe3241ccae11378267b7c1be",
       "max": 5,
       "style": "IPY_MODEL_b32aea1c0302415784ba5e0e2f350b95",
       "value": 5
      }
     },
     "ce36a386716b45939f2bab792246e42d": {
      "model_module": "@jupyter-widgets/base",
      "model_module_version": "2.0.0",
      "model_name": "LayoutModel",
      "state": {}
     },
     "ceea0eafd80e4ce4a843de0c75e5b690": {
      "model_module": "@jupyter-widgets/controls",
      "model_module_version": "2.0.0",
      "model_name": "HTMLStyleModel",
      "state": {
       "description_width": "",
       "font_size": null,
       "text_color": null
      }
     },
     "cefe7d12b83047dc9bee6bc03e1411c1": {
      "model_module": "@jupyter-widgets/controls",
      "model_module_version": "2.0.0",
      "model_name": "FloatProgressModel",
      "state": {
       "layout": "IPY_MODEL_6cf7e291c0ae4cb0b935c291ee34025a",
       "max": 10,
       "style": "IPY_MODEL_f7ec2a62624741c786b91135e20a6821",
       "value": 10
      }
     },
     "cfc632c1547741e4b72d71401ff68f31": {
      "model_module": "@jupyter-widgets/controls",
      "model_module_version": "2.0.0",
      "model_name": "HTMLModel",
      "state": {
       "layout": "IPY_MODEL_ff541c950af241bf8ceb010330a0b4c1",
       "style": "IPY_MODEL_788c1c93d4ee4169888ff9b56a134157",
       "value": " 11/? [37:36&lt;00:00,  1.33s/it]"
      }
     },
     "d60f7d4cb39c4516bfde4374819fa8f9": {
      "model_module": "@jupyter-widgets/controls",
      "model_module_version": "2.0.0",
      "model_name": "FloatProgressModel",
      "state": {
       "layout": "IPY_MODEL_80efd6c322a74a0b856a0a5a4ace98e1",
       "max": 5,
       "style": "IPY_MODEL_8262714655424f068949ff6815fa911c"
      }
     },
     "d865a285792f4832afaa07296ea5d322": {
      "model_module": "@jupyter-widgets/controls",
      "model_module_version": "2.0.0",
      "model_name": "HTMLStyleModel",
      "state": {
       "description_width": "",
       "font_size": null,
       "text_color": null
      }
     },
     "db69447bfd2a4c87ab45b333c3a10fa7": {
      "model_module": "@jupyter-widgets/controls",
      "model_module_version": "2.0.0",
      "model_name": "HTMLStyleModel",
      "state": {
       "description_width": "",
       "font_size": null,
       "text_color": null
      }
     },
     "e0bf83b8a9554202b2075b31b81bc97e": {
      "model_module": "@jupyter-widgets/base",
      "model_module_version": "2.0.0",
      "model_name": "LayoutModel",
      "state": {}
     },
     "e0c3b713a1724e5c92e3e5a22e09ab26": {
      "model_module": "@jupyter-widgets/controls",
      "model_module_version": "2.0.0",
      "model_name": "HTMLStyleModel",
      "state": {
       "description_width": "",
       "font_size": null,
       "text_color": null
      }
     },
     "e0d4b329b7164c44860680c358f57c16": {
      "model_module": "@jupyter-widgets/controls",
      "model_module_version": "2.0.0",
      "model_name": "FloatProgressModel",
      "state": {
       "bar_style": "danger",
       "layout": "IPY_MODEL_e1411ebb1736477d93ecf8ceb8ccb815",
       "max": 5,
       "style": "IPY_MODEL_5ff99efee9cd42afa260440e0f21782a"
      }
     },
     "e10059a14f8e49d0ad6a28d3bddbc75f": {
      "model_module": "@jupyter-widgets/controls",
      "model_module_version": "2.0.0",
      "model_name": "HTMLModel",
      "state": {
       "layout": "IPY_MODEL_ce36a386716b45939f2bab792246e42d",
       "style": "IPY_MODEL_6facad8627304308be41ad1e36c57843",
       "value": "training: "
      }
     },
     "e1150a1e43af4c17bd68aaa820a0b6d2": {
      "model_module": "@jupyter-widgets/base",
      "model_module_version": "2.0.0",
      "model_name": "LayoutModel",
      "state": {}
     },
     "e1411ebb1736477d93ecf8ceb8ccb815": {
      "model_module": "@jupyter-widgets/base",
      "model_module_version": "2.0.0",
      "model_name": "LayoutModel",
      "state": {}
     },
     "e14fbca2024e4b778cd499a625033d95": {
      "model_module": "@jupyter-widgets/controls",
      "model_module_version": "2.0.0",
      "model_name": "FloatProgressModel",
      "state": {
       "bar_style": "success",
       "layout": "IPY_MODEL_0af01bc6eb2d4b94bec1b82c0bb7e22a",
       "max": 10,
       "style": "IPY_MODEL_150af4fada2a4ffbadc6f488193b6478",
       "value": 10
      }
     },
     "e27ae412f14d48c4a19a1b3b66980c8a": {
      "model_module": "@jupyter-widgets/base",
      "model_module_version": "2.0.0",
      "model_name": "LayoutModel",
      "state": {}
     },
     "e28dc9a06a2d43a683c6d54c913aa501": {
      "model_module": "@jupyter-widgets/controls",
      "model_module_version": "2.0.0",
      "model_name": "HTMLModel",
      "state": {
       "layout": "IPY_MODEL_c4746e04cbdf4c6e814233afb7d8b89b",
       "style": "IPY_MODEL_74ef95a793f8480d8201447cb60659c9",
       "value": " 11/? [00:13&lt;00:00,  1.28s/it]"
      }
     },
     "e2eff6dd0dcf46d699758718edda5ae0": {
      "model_module": "@jupyter-widgets/controls",
      "model_module_version": "2.0.0",
      "model_name": "ProgressStyleModel",
      "state": {
       "description_width": ""
      }
     },
     "e5bbb30d86e14510836e1cbd1742df4a": {
      "model_module": "@jupyter-widgets/controls",
      "model_module_version": "2.0.0",
      "model_name": "FloatProgressModel",
      "state": {
       "layout": "IPY_MODEL_f5a032de2926498c815d959fd8a252dc",
       "max": 5,
       "style": "IPY_MODEL_247e3f4928df4906a917e528ded954b4",
       "value": 5
      }
     },
     "e8d287527b6d4f37ac214e4ff21c20f4": {
      "model_module": "@jupyter-widgets/base",
      "model_module_version": "2.0.0",
      "model_name": "LayoutModel",
      "state": {}
     },
     "e8dc6c11d0dd43f2825515782062b585": {
      "model_module": "@jupyter-widgets/controls",
      "model_module_version": "2.0.0",
      "model_name": "HBoxModel",
      "state": {
       "children": [
        "IPY_MODEL_78fc6c5414df40ee824fe684a4ef349d",
        "IPY_MODEL_e14fbca2024e4b778cd499a625033d95",
        "IPY_MODEL_94d75951026044b7b82e032a25725e95"
       ],
       "layout": "IPY_MODEL_2241857e2c294e47843489d58944d85d"
      }
     },
     "ec7d7c58fe3241ccae11378267b7c1be": {
      "model_module": "@jupyter-widgets/base",
      "model_module_version": "2.0.0",
      "model_name": "LayoutModel",
      "state": {}
     },
     "ed388208044344789afe422fa64c588c": {
      "model_module": "@jupyter-widgets/base",
      "model_module_version": "2.0.0",
      "model_name": "LayoutModel",
      "state": {}
     },
     "eebf9583c66c40508c3ff600e3caa600": {
      "model_module": "@jupyter-widgets/controls",
      "model_module_version": "2.0.0",
      "model_name": "HTMLStyleModel",
      "state": {
       "description_width": "",
       "font_size": null,
       "text_color": null
      }
     },
     "ef513a0e54584dc0afed6dd1b03d38bd": {
      "model_module": "@jupyter-widgets/controls",
      "model_module_version": "2.0.0",
      "model_name": "HTMLStyleModel",
      "state": {
       "description_width": "",
       "font_size": null,
       "text_color": null
      }
     },
     "ef8583107a624e7ead88cc475deb464f": {
      "model_module": "@jupyter-widgets/controls",
      "model_module_version": "2.0.0",
      "model_name": "HBoxModel",
      "state": {
       "children": [
        "IPY_MODEL_a13229e659a1458d8aaae7072aac495b",
        "IPY_MODEL_539ecef88beb4bb2be6563aac86346f5",
        "IPY_MODEL_01b444bae39a4b1fa848aa83a191cc5e"
       ],
       "layout": "IPY_MODEL_c4e9a165056446658b4a566e2b39d9de"
      }
     },
     "f3233f8793c04f0095870d209d78ca6e": {
      "model_module": "@jupyter-widgets/base",
      "model_module_version": "2.0.0",
      "model_name": "LayoutModel",
      "state": {}
     },
     "f36b399897754355accd976d1b00c1c1": {
      "model_module": "@jupyter-widgets/base",
      "model_module_version": "2.0.0",
      "model_name": "LayoutModel",
      "state": {}
     },
     "f39b0d72aca74197a27673e9c7a10afe": {
      "model_module": "@jupyter-widgets/base",
      "model_module_version": "2.0.0",
      "model_name": "LayoutModel",
      "state": {}
     },
     "f4707b5b403e4ab28cf9671884dfb2e5": {
      "model_module": "@jupyter-widgets/controls",
      "model_module_version": "2.0.0",
      "model_name": "HTMLStyleModel",
      "state": {
       "description_width": "",
       "font_size": null,
       "text_color": null
      }
     },
     "f54a7a81419247ba9d04b613d0e3331a": {
      "model_module": "@jupyter-widgets/base",
      "model_module_version": "2.0.0",
      "model_name": "LayoutModel",
      "state": {}
     },
     "f5a032de2926498c815d959fd8a252dc": {
      "model_module": "@jupyter-widgets/base",
      "model_module_version": "2.0.0",
      "model_name": "LayoutModel",
      "state": {}
     },
     "f680fc879d704c069587d5b7b99bbe38": {
      "model_module": "@jupyter-widgets/base",
      "model_module_version": "2.0.0",
      "model_name": "LayoutModel",
      "state": {}
     },
     "f743fe3bc22146e292a87dfedbbdb2ce": {
      "model_module": "@jupyter-widgets/controls",
      "model_module_version": "2.0.0",
      "model_name": "ProgressStyleModel",
      "state": {
       "description_width": ""
      }
     },
     "f78ea4c4255d4e289abaa8c669658a93": {
      "model_module": "@jupyter-widgets/base",
      "model_module_version": "2.0.0",
      "model_name": "LayoutModel",
      "state": {}
     },
     "f7ec2a62624741c786b91135e20a6821": {
      "model_module": "@jupyter-widgets/controls",
      "model_module_version": "2.0.0",
      "model_name": "ProgressStyleModel",
      "state": {
       "description_width": ""
      }
     },
     "f85c666d33504fbcaed9e0c85bb22da3": {
      "model_module": "@jupyter-widgets/base",
      "model_module_version": "2.0.0",
      "model_name": "LayoutModel",
      "state": {}
     },
     "fae94a8ac03443ef8084bb83f379d40b": {
      "model_module": "@jupyter-widgets/controls",
      "model_module_version": "2.0.0",
      "model_name": "ProgressStyleModel",
      "state": {
       "description_width": ""
      }
     },
     "fb7977d19dfd4c85ae16adb136937d28": {
      "model_module": "@jupyter-widgets/controls",
      "model_module_version": "2.0.0",
      "model_name": "HTMLStyleModel",
      "state": {
       "description_width": "",
       "font_size": null,
       "text_color": null
      }
     },
     "fbcad1998eb04f79b58e5d4f771484bf": {
      "model_module": "@jupyter-widgets/controls",
      "model_module_version": "2.0.0",
      "model_name": "HTMLModel",
      "state": {
       "layout": "IPY_MODEL_97d1f155f73b4b0dae55bebb32f8c3b5",
       "style": "IPY_MODEL_c23ef24362e148128f06b577efe17ea2",
       "value": "training:   0%"
      }
     },
     "fdf7934533a948b1a732ad948f9afac2": {
      "model_module": "@jupyter-widgets/controls",
      "model_module_version": "2.0.0",
      "model_name": "HTMLModel",
      "state": {
       "layout": "IPY_MODEL_9c9533a9caf14ff597065530613b4303",
       "style": "IPY_MODEL_ceea0eafd80e4ce4a843de0c75e5b690",
       "value": "training: "
      }
     },
     "ff541c950af241bf8ceb010330a0b4c1": {
      "model_module": "@jupyter-widgets/base",
      "model_module_version": "2.0.0",
      "model_name": "LayoutModel",
      "state": {}
     }
    },
    "version_major": 2,
    "version_minor": 0
   }
  }
 },
 "nbformat": 4,
 "nbformat_minor": 5
}
