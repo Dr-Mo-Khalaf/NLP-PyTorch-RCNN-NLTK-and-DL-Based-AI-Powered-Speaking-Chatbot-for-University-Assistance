{
 "cells": [
  {
   "cell_type": "code",
   "execution_count": 5,
   "id": "7de0aa7f-9783-4538-be1d-8d40b86b5d0f",
   "metadata": {},
   "outputs": [
    {
     "name": "stdout",
     "output_type": "stream",
     "text": [
      "Zeroooooooooooooooooooooooooooooo [0. 0. 0. 0. 0. 0.]\n",
      "1 hello\n",
      "[0. 1. 0. 0. 0. 0.]\n"
     ]
    },
    {
     "name": "stderr",
     "output_type": "stream",
     "text": [
      "[nltk_data] Downloading package punkt to /home/mkh/nltk_data...\n",
      "[nltk_data]   Package punkt is already up-to-date!\n",
      "[nltk_data] Downloading package punkt_tab to /home/mkh/nltk_data...\n",
      "[nltk_data]   Package punkt_tab is already up-to-date!\n"
     ]
    }
   ],
   "source": [
    "import numpy as np\n",
    "import nltk\n",
    "nltk.download('punkt') # Download the Punkt sentence tokenizer\n",
    "nltk.data.path.append('/home/mkh/nltk_data')\n",
    "nltk.download('punkt_tab')\n",
    "from nltk.stem.porter import PorterStemmer\n",
    "\n",
    "\n",
    "\n",
    "def tokenize_fn(text):\n",
    "    \"\"\"\n",
    "    split test into list of words/tokens --> word , punctuation , number\n",
    "    \"\"\"\n",
    "    tokenization = nltk.word_tokenize(text)\n",
    "    return tokenization\n",
    "\n",
    "\n",
    "def stem_fn( word ):\n",
    "    \"\"\"\n",
    "    # to find the root of the words\n",
    "    # playing , played, playes --> [ 'play' , 'play' , 'play' ]\n",
    "    #[\"organization\" , \"organizer\" , \"organizing\" ] ---> [\"organ\" , \"organ\", \"organ\"] \n",
    "    \"\"\"\n",
    "    stemmer = PorterStemmer()\n",
    "    stemming = stemmer.stem(word.lower())\n",
    "    return  stemming\n",
    "\n",
    "def bag_of_words(tokenized_sentence,words):\n",
    "    \"\"\"\n",
    "    return bag of words : 1 for each known word that exist in the test , 0 otherwise\n",
    "    example : \n",
    "    sentence = [\"hello\" , \"how\", \"are\" ,\"you\"]\n",
    "    words = [\"hi\" , \"hello\", \"I\" , \"bye\", \"thank\", \" cool\"]\n",
    "    bag  =  [ 0   ,  1    , 0    ,  0   , 0    , 0  ]\n",
    "    \"\"\"\n",
    "    # stem each word \n",
    "    sentence_words = [stem_fn(word) for word in tokenized_sentence]\n",
    "    \n",
    "    # set the intial values in bag with 0 for each words\n",
    "    bag = np.zeros(len(words) , dtype= np.float32)\n",
    "    print(\"Zeroooooooooooooooooooooooooooooo\",bag)\n",
    "    for idx, w in enumerate(words) : \n",
    "        if w in sentence_words:\n",
    "            print(idx,w)\n",
    "            bag[idx] = 1\n",
    "    \n",
    "    return bag\n",
    "\n",
    "\n",
    "\n",
    "sentence = [\"hello\" , \"how\", \"are\" ,\"you\"]\n",
    "words = [\"hi\" , \"hello\", \"I\" , \"bye\", \"thank\", \" cool\"]\n",
    "bag = bag_of_words(sentence,words)\n",
    "print(bag)\n",
    "\n",
    "\n",
    "\n",
    "    "
   ]
  },
  {
   "cell_type": "code",
   "execution_count": null,
   "id": "0fe1dc4d-a028-4f4c-ad49-3c83247e10aa",
   "metadata": {},
   "outputs": [],
   "source": []
  }
 ],
 "metadata": {
  "kernelspec": {
   "display_name": "Python 3 (ipykernel)",
   "language": "python",
   "name": "python3"
  },
  "language_info": {
   "codemirror_mode": {
    "name": "ipython",
    "version": 3
   },
   "file_extension": ".py",
   "mimetype": "text/x-python",
   "name": "python",
   "nbconvert_exporter": "python",
   "pygments_lexer": "ipython3",
   "version": "3.12.3"
  }
 },
 "nbformat": 4,
 "nbformat_minor": 5
}
